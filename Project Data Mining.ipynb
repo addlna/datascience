{
 "cells": [
  {
   "cell_type": "code",
   "execution_count": 1,
   "metadata": {},
   "outputs": [],
   "source": [
    "import pandas as pd\n",
    "import numpy as np\n",
    "import matplotlib.pyplot as plt\n",
    "import seaborn as sns \n",
    "\n",
    "import imblearn"
   ]
  },
  {
   "cell_type": "code",
   "execution_count": 2,
   "metadata": {},
   "outputs": [],
   "source": [
    "df = pd.read_csv('Insurance_Data.csv')"
   ]
  },
  {
   "cell_type": "code",
   "execution_count": 3,
   "metadata": {},
   "outputs": [
    {
     "data": {
      "text/plain": [
       "Age                       92\n",
       "Gender                     0\n",
       "MaritalStatus            142\n",
       "SmokerStatus              66\n",
       "LifeStyle                  0\n",
       "LanguageSpoken             0\n",
       "HighestEducation           0\n",
       "Race                     115\n",
       "Nationality              145\n",
       "MalaysiaPR                 0\n",
       "MovingToNewCompany         0\n",
       "Occupation               145\n",
       "Telco                      0\n",
       "HomeAddress               79\n",
       "ResidentialType            0\n",
       "NoOfDependent             94\n",
       "FamilyExpenses(month)    121\n",
       "AnnualSalary             156\n",
       "Customer_Needs_1           0\n",
       "Customer_Needs_2           0\n",
       "PurchasedPlan1             0\n",
       "Transport                  0\n",
       "PurchasedPlan2             0\n",
       "MedicalComplication        0\n",
       "dtype: int64"
      ]
     },
     "execution_count": 3,
     "metadata": {},
     "output_type": "execute_result"
    }
   ],
   "source": [
    "df.isna().sum()"
   ]
  },
  {
   "cell_type": "code",
   "execution_count": 4,
   "metadata": {},
   "outputs": [],
   "source": [
    "df1 = df.copy()"
   ]
  },
  {
   "cell_type": "code",
   "execution_count": 5,
   "metadata": {},
   "outputs": [
    {
     "data": {
      "text/plain": [
       "30.776960784313726"
      ]
     },
     "execution_count": 5,
     "metadata": {},
     "output_type": "execute_result"
    }
   ],
   "source": [
    "df1['Age'].mean()"
   ]
  },
  {
   "cell_type": "code",
   "execution_count": 6,
   "metadata": {},
   "outputs": [
    {
     "data": {
      "text/html": [
       "<div>\n",
       "<style scoped>\n",
       "    .dataframe tbody tr th:only-of-type {\n",
       "        vertical-align: middle;\n",
       "    }\n",
       "\n",
       "    .dataframe tbody tr th {\n",
       "        vertical-align: top;\n",
       "    }\n",
       "\n",
       "    .dataframe thead th {\n",
       "        text-align: right;\n",
       "    }\n",
       "</style>\n",
       "<table border=\"1\" class=\"dataframe\">\n",
       "  <thead>\n",
       "    <tr style=\"text-align: right;\">\n",
       "      <th></th>\n",
       "      <th>Age</th>\n",
       "      <th>Gender</th>\n",
       "      <th>MaritalStatus</th>\n",
       "      <th>SmokerStatus</th>\n",
       "      <th>LifeStyle</th>\n",
       "      <th>LanguageSpoken</th>\n",
       "      <th>HighestEducation</th>\n",
       "      <th>Race</th>\n",
       "      <th>Nationality</th>\n",
       "      <th>MalaysiaPR</th>\n",
       "      <th>...</th>\n",
       "      <th>ResidentialType</th>\n",
       "      <th>NoOfDependent</th>\n",
       "      <th>FamilyExpenses(month)</th>\n",
       "      <th>AnnualSalary</th>\n",
       "      <th>Customer_Needs_1</th>\n",
       "      <th>Customer_Needs_2</th>\n",
       "      <th>PurchasedPlan1</th>\n",
       "      <th>Transport</th>\n",
       "      <th>PurchasedPlan2</th>\n",
       "      <th>MedicalComplication</th>\n",
       "    </tr>\n",
       "  </thead>\n",
       "  <tbody>\n",
       "    <tr>\n",
       "      <th>0</th>\n",
       "      <td>35.0</td>\n",
       "      <td>female</td>\n",
       "      <td>single</td>\n",
       "      <td>NaN</td>\n",
       "      <td>home</td>\n",
       "      <td>english</td>\n",
       "      <td>Bachelor</td>\n",
       "      <td>malay</td>\n",
       "      <td>NaN</td>\n",
       "      <td>yes</td>\n",
       "      <td>...</td>\n",
       "      <td>terrace</td>\n",
       "      <td>2.000000</td>\n",
       "      <td>10242.000000</td>\n",
       "      <td>118087.540698</td>\n",
       "      <td>PersonalSaving</td>\n",
       "      <td>KidMedical</td>\n",
       "      <td>SchoolAgain</td>\n",
       "      <td>driving</td>\n",
       "      <td>NoMoneyDown</td>\n",
       "      <td>no</td>\n",
       "    </tr>\n",
       "    <tr>\n",
       "      <th>1</th>\n",
       "      <td>25.0</td>\n",
       "      <td>male</td>\n",
       "      <td>NaN</td>\n",
       "      <td>NaN</td>\n",
       "      <td>outdoor</td>\n",
       "      <td>malay</td>\n",
       "      <td>Diploma</td>\n",
       "      <td>chinese</td>\n",
       "      <td>Malaysian</td>\n",
       "      <td>no</td>\n",
       "      <td>...</td>\n",
       "      <td>terrace</td>\n",
       "      <td>2.000000</td>\n",
       "      <td>6335.403694</td>\n",
       "      <td>73926.000000</td>\n",
       "      <td>PersonalRetirement</td>\n",
       "      <td>KidMedical</td>\n",
       "      <td>SchoolAgain</td>\n",
       "      <td>driving</td>\n",
       "      <td>XEdu</td>\n",
       "      <td>yes</td>\n",
       "    </tr>\n",
       "    <tr>\n",
       "      <th>2</th>\n",
       "      <td>27.0</td>\n",
       "      <td>male</td>\n",
       "      <td>NaN</td>\n",
       "      <td>frequent</td>\n",
       "      <td>pub_goer</td>\n",
       "      <td>english</td>\n",
       "      <td>Bachelor</td>\n",
       "      <td>others</td>\n",
       "      <td>NaN</td>\n",
       "      <td>no</td>\n",
       "      <td>...</td>\n",
       "      <td>condominium</td>\n",
       "      <td>2.000000</td>\n",
       "      <td>4316.000000</td>\n",
       "      <td>140734.000000</td>\n",
       "      <td>PersonalMedical</td>\n",
       "      <td>KidMedical</td>\n",
       "      <td>SchoolAgain</td>\n",
       "      <td>driving</td>\n",
       "      <td>KidsFlyUp</td>\n",
       "      <td>yes</td>\n",
       "    </tr>\n",
       "    <tr>\n",
       "      <th>3</th>\n",
       "      <td>33.0</td>\n",
       "      <td>female</td>\n",
       "      <td>NaN</td>\n",
       "      <td>once_in_a_while</td>\n",
       "      <td>pub_goer</td>\n",
       "      <td>english</td>\n",
       "      <td>Bachelor</td>\n",
       "      <td>malay</td>\n",
       "      <td>Malaysian</td>\n",
       "      <td>yes</td>\n",
       "      <td>...</td>\n",
       "      <td>terrace</td>\n",
       "      <td>3.337438</td>\n",
       "      <td>4845.000000</td>\n",
       "      <td>118087.540698</td>\n",
       "      <td>PersonalSaving</td>\n",
       "      <td>KidSaving</td>\n",
       "      <td>SchoolAgain</td>\n",
       "      <td>driving</td>\n",
       "      <td>NoMoneyDown</td>\n",
       "      <td>no</td>\n",
       "    </tr>\n",
       "    <tr>\n",
       "      <th>4</th>\n",
       "      <td>28.0</td>\n",
       "      <td>female</td>\n",
       "      <td>NaN</td>\n",
       "      <td>once_in_a_while</td>\n",
       "      <td>home</td>\n",
       "      <td>english</td>\n",
       "      <td>Bachelor</td>\n",
       "      <td>chinese</td>\n",
       "      <td>Malaysian</td>\n",
       "      <td>yes</td>\n",
       "      <td>...</td>\n",
       "      <td>condominium</td>\n",
       "      <td>2.000000</td>\n",
       "      <td>9883.000000</td>\n",
       "      <td>98833.000000</td>\n",
       "      <td>PersonalRetirement</td>\n",
       "      <td>KidEducation</td>\n",
       "      <td>COVIDFree</td>\n",
       "      <td>driving</td>\n",
       "      <td>KidsFlyUp</td>\n",
       "      <td>yes</td>\n",
       "    </tr>\n",
       "  </tbody>\n",
       "</table>\n",
       "<p>5 rows × 24 columns</p>\n",
       "</div>"
      ],
      "text/plain": [
       "    Age  Gender MaritalStatus     SmokerStatus LifeStyle LanguageSpoken  \\\n",
       "0  35.0  female        single              NaN      home        english   \n",
       "1  25.0    male           NaN              NaN   outdoor          malay   \n",
       "2  27.0    male           NaN         frequent  pub_goer        english   \n",
       "3  33.0  female           NaN  once_in_a_while  pub_goer        english   \n",
       "4  28.0  female           NaN  once_in_a_while      home        english   \n",
       "\n",
       "  HighestEducation     Race Nationality MalaysiaPR  ... ResidentialType  \\\n",
       "0         Bachelor    malay         NaN        yes  ...         terrace   \n",
       "1          Diploma  chinese   Malaysian         no  ...         terrace   \n",
       "2         Bachelor   others         NaN         no  ...     condominium   \n",
       "3         Bachelor    malay   Malaysian        yes  ...         terrace   \n",
       "4         Bachelor  chinese   Malaysian        yes  ...     condominium   \n",
       "\n",
       "  NoOfDependent FamilyExpenses(month)   AnnualSalary    Customer_Needs_1  \\\n",
       "0      2.000000          10242.000000  118087.540698      PersonalSaving   \n",
       "1      2.000000           6335.403694   73926.000000  PersonalRetirement   \n",
       "2      2.000000           4316.000000  140734.000000     PersonalMedical   \n",
       "3      3.337438           4845.000000  118087.540698      PersonalSaving   \n",
       "4      2.000000           9883.000000   98833.000000  PersonalRetirement   \n",
       "\n",
       "   Customer_Needs_2  PurchasedPlan1  Transport PurchasedPlan2  \\\n",
       "0        KidMedical     SchoolAgain    driving    NoMoneyDown   \n",
       "1        KidMedical     SchoolAgain    driving           XEdu   \n",
       "2        KidMedical     SchoolAgain    driving      KidsFlyUp   \n",
       "3         KidSaving     SchoolAgain    driving    NoMoneyDown   \n",
       "4      KidEducation       COVIDFree    driving      KidsFlyUp   \n",
       "\n",
       "  MedicalComplication  \n",
       "0                  no  \n",
       "1                 yes  \n",
       "2                 yes  \n",
       "3                  no  \n",
       "4                 yes  \n",
       "\n",
       "[5 rows x 24 columns]"
      ]
     },
     "execution_count": 6,
     "metadata": {},
     "output_type": "execute_result"
    }
   ],
   "source": [
    "df1['Age'] = df1['Age'].fillna(df1['Age'].mean())\n",
    "\n",
    "df1['NoOfDependent'] = df1['NoOfDependent'].fillna(df1['NoOfDependent'].mean()+1)\n",
    "df1['NoOfDependent'].round(0).astype(int)\n",
    "\n",
    "df1['FamilyExpenses(month)'] = df1['FamilyExpenses(month)'].fillna(df1['FamilyExpenses(month)'].mean())\n",
    "df1['AnnualSalary'] = df1['AnnualSalary'].fillna(df1['AnnualSalary'].mean())\n",
    "df1.head()"
   ]
  },
  {
   "cell_type": "code",
   "execution_count": 7,
   "metadata": {},
   "outputs": [],
   "source": [
    "df1['MaritalStatus'] = df1['MaritalStatus'].fillna('Unspecified Status')\n",
    "\n",
    "df1['SmokerStatus'] = df1['SmokerStatus'].fillna('Unknown')\n",
    "\n",
    "df1['Race'] = df1['Race'].fillna('Not Specified')\n",
    "\n",
    "df1['Nationality'] = df1['Nationality'].fillna('Unspecified')\n",
    "\n",
    "df1['Occupation'] = df1['Occupation'].fillna('Not available')\n",
    "\n",
    "df1['HomeAddress'] = df1['HomeAddress'].fillna('Not Stated')"
   ]
  },
  {
   "cell_type": "code",
   "execution_count": 8,
   "metadata": {
    "scrolled": true
   },
   "outputs": [
    {
     "data": {
      "text/plain": [
       "Age                      0\n",
       "Gender                   0\n",
       "MaritalStatus            0\n",
       "SmokerStatus             0\n",
       "LifeStyle                0\n",
       "LanguageSpoken           0\n",
       "HighestEducation         0\n",
       "Race                     0\n",
       "Nationality              0\n",
       "MalaysiaPR               0\n",
       "MovingToNewCompany       0\n",
       "Occupation               0\n",
       "Telco                    0\n",
       "HomeAddress              0\n",
       "ResidentialType          0\n",
       "NoOfDependent            0\n",
       "FamilyExpenses(month)    0\n",
       "AnnualSalary             0\n",
       "Customer_Needs_1         0\n",
       "Customer_Needs_2         0\n",
       "PurchasedPlan1           0\n",
       "Transport                0\n",
       "PurchasedPlan2           0\n",
       "MedicalComplication      0\n",
       "dtype: int64"
      ]
     },
     "execution_count": 8,
     "metadata": {},
     "output_type": "execute_result"
    }
   ],
   "source": [
    "df1.isna().sum()"
   ]
  },
  {
   "cell_type": "code",
   "execution_count": 9,
   "metadata": {},
   "outputs": [],
   "source": [
    "df2=df1.copy()"
   ]
  },
  {
   "cell_type": "code",
   "execution_count": 10,
   "metadata": {
    "scrolled": true
   },
   "outputs": [],
   "source": [
    "#treat imbalance data\n",
    "from sklearn.preprocessing import MinMaxScaler \n",
    "\n",
    "features_to_scale = [\"Age\", \"NoOfDependent\", \"FamilyExpenses(month)\", \"AnnualSalary\"]\n",
    "to_scale = df1[features_to_scale]\n",
    "\n",
    "a=MinMaxScaler()\n",
    "b=a.fit_transform(to_scale)\n",
    "c=pd.DataFrame(b, columns=features_to_scale)"
   ]
  },
  {
   "cell_type": "code",
   "execution_count": 11,
   "metadata": {},
   "outputs": [
    {
     "name": "stdout",
     "output_type": "stream",
     "text": [
      "SchoolAgain    294\n",
      "COVIDFree      110\n",
      "HomeSafe        96\n",
      "Name: PurchasedPlan1, dtype: int64\n"
     ]
    },
    {
     "data": {
      "text/plain": [
       "Text(0.5, 1.0, 'Class Distribution')"
      ]
     },
     "execution_count": 11,
     "metadata": {},
     "output_type": "execute_result"
    },
    {
     "data": {
      "image/png": "[encoded data removed]",
      "text/plain": [
       "<Figure size 432x288 with 1 Axes>"
      ]
     },
     "metadata": {
      "needs_background": "light"
     },
     "output_type": "display_data"
    }
   ],
   "source": [
    "print(df1[\"PurchasedPlan1\"].value_counts())\n",
    "df1[\"PurchasedPlan1\"].value_counts().plot(kind=\"bar\")\n",
    "plt.title(\"Class Distribution\")"
   ]
  },
  {
   "cell_type": "code",
   "execution_count": 12,
   "metadata": {},
   "outputs": [
    {
     "name": "stdout",
     "output_type": "stream",
     "text": [
      "XEdu           189\n",
      "KidsFlyUp      157\n",
      "NoMoneyDown    154\n",
      "Name: PurchasedPlan2, dtype: int64\n"
     ]
    },
    {
     "data": {
      "text/plain": [
       "Text(0.5, 1.0, 'Class Distribution')"
      ]
     },
     "execution_count": 12,
     "metadata": {},
     "output_type": "execute_result"
    },
    {
     "data": {
      "image/png": "[encoded data removed]",
      "text/plain": [
       "<Figure size 432x288 with 1 Axes>"
      ]
     },
     "metadata": {
      "needs_background": "light"
     },
     "output_type": "display_data"
    }
   ],
   "source": [
    "print(df1[\"PurchasedPlan2\"].value_counts())\n",
    "df1[\"PurchasedPlan2\"].value_counts().plot(kind=\"bar\")\n",
    "plt.title(\"Class Distribution\")"
   ]
  },
  {
   "cell_type": "code",
   "execution_count": 13,
   "metadata": {},
   "outputs": [],
   "source": [
    "df3 = df1.copy()"
   ]
  },
  {
   "cell_type": "code",
   "execution_count": 14,
   "metadata": {},
   "outputs": [],
   "source": [
    "#Mapping\n",
    "\n",
    "df1[\"PurchasedPlan1\"]    = df1[\"PurchasedPlan1\"].map({'SchoolAgain':1,'HomeSafe':2,'COVIDFree':3})\n",
    "df1[\"PurchasedPlan2\"]    = df1[\"PurchasedPlan2\"].map({'NoMoneyDown':1,'XEdu':2,'KidsFlyUp':3})\n",
    "df1[\"Gender\"]            = df1[\"Gender\"].map({'female':1,'male':2})\n",
    "df1[\"MaritalStatus\"]     = df1[\"MaritalStatus\"].map({'single':1,'Unspecified Status':2,'married':3})\n",
    "df1[\"SmokerStatus\"]      = df1[\"SmokerStatus\"].map({'Unknown':1,'frequent':2,'once_in_a_while':3, 'sometimes':4})\n",
    "df1[\"LifeStyle\"]         = df1[\"LifeStyle\"].map({'home':1,'outdoor':2,'pub_goer':3})\n",
    "df1[\"LanguageSpoken\"]    = df1[\"LanguageSpoken\"].map({'english':1,'malay':2,'mandarin':3})\n",
    "df1[\"HighestEducation\"]  = df1[\"HighestEducation\"].map({'Bachelor':1,'Diploma':2,'Master':3, 'PhD':4})\n",
    "df1[\"Race\"]              = df1[\"Race\"].map({'malay':1,'chinese':2,'others':3, 'Not Specified':4, 'indian':5})\n",
    "df1[\"Nationality\"]       = df1[\"Nationality\"].map({'Unspecified':1,'Malaysian':2,'others':3})\n",
    "df1[\"MalaysiaPR\"]        = df1[\"MalaysiaPR\"].map({'yes':1,'no':2})\n",
    "df1[\"MovingToNewCompany\"]= df1[\"MovingToNewCompany\"].map({'yes':1,'no':2})\n",
    "df1[\"Occupation\"]        = df1[\"Occupation\"].map({'employer':1,'selfEmployed':2, 'privateEemployee':3, 'Not available':4, 'govServant':5})\n",
    "df1[\"Telco\"]             = df1[\"Telco\"].map({'maxis':1,'umobile':2, 'celcom':3, 'digi':4})\n",
    "df1[\"HomeAddress\"]       = df1[\"HomeAddress\"].map({'north_mal':1,'east_mal':2, 'central_mal':3, 'south_mal':4, 'Not Stated':5})\n",
    "df1[\"ResidentialType\"]   = df1[\"ResidentialType\"].map({'terrace':1,'condominium':2, 'flat':3, 'bungalow':4})\n",
    "df1[\"Customer_Needs_1\"]  = df1[\"Customer_Needs_1\"].map({'PersonalSaving':1,'PersonalRetirement':2, 'PersonalMedical':3})\n",
    "df1[\"Customer_Needs_2\"]  = df1[\"Customer_Needs_2\"].map({'KidMedical':1,'KidSaving':2, 'KidEducation':3})\n",
    "df1[\"Transport\"]         = df1[\"Transport\"].map({'driving':1,'publicTransport':2})\n",
    "df1[\"MedicalComplication\"] = df1[\"MedicalComplication\"].map({'no':1,'yes':2})\n"
   ]
  },
  {
   "cell_type": "markdown",
   "metadata": {},
   "source": [
    "# Treat imbalanced data\n",
    "Treat imbalanced data for PurchasedPlan1 and PurchasedPlan2 respectively."
   ]
  },
  {
   "cell_type": "code",
   "execution_count": 15,
   "metadata": {},
   "outputs": [],
   "source": [
    "df3 = df1.copy()"
   ]
  },
  {
   "cell_type": "code",
   "execution_count": 16,
   "metadata": {},
   "outputs": [],
   "source": [
    "smt = imblearn.over_sampling.SMOTE(sampling_strategy=\"auto\", random_state=0, k_neighbors=3)\n",
    "\n",
    "X = df3.drop([\"PurchasedPlan1\"], 1)\n",
    "y = df3[\"PurchasedPlan1\"]\n",
    "features = X.columns\n",
    "\n",
    "a = MinMaxScaler()\n",
    "x_scaled = a.fit_transform(X)\n",
    "x_scaled = pd.DataFrame(x_scaled, columns = features)\n",
    "\n",
    "X_res, y_res = smt.fit_resample(X,y)"
   ]
  },
  {
   "cell_type": "code",
   "execution_count": 17,
   "metadata": {},
   "outputs": [
    {
     "name": "stdout",
     "output_type": "stream",
     "text": [
      "PurchasedPlan2 Skewness:  0.21232008797040294\n"
     ]
    }
   ],
   "source": [
    "print(\"PurchasedPlan2 Skewness: \", X_res[\"PurchasedPlan2\"].skew())"
   ]
  },
  {
   "cell_type": "code",
   "execution_count": 18,
   "metadata": {},
   "outputs": [],
   "source": [
    "X1 = X_res\n",
    "y1 = y_res"
   ]
  },
  {
   "cell_type": "code",
   "execution_count": 19,
   "metadata": {
    "scrolled": true
   },
   "outputs": [
    {
     "name": "stdout",
     "output_type": "stream",
     "text": [
      "3    294\n",
      "2    294\n",
      "1    294\n",
      "Name: PurchasedPlan1, dtype: int64\n"
     ]
    },
    {
     "data": {
      "text/plain": [
       "Text(0.5, 1.0, 'Purchased Plan 1')"
      ]
     },
     "execution_count": 19,
     "metadata": {},
     "output_type": "execute_result"
    },
    {
     "data": {
      "image/png": "[encoded data removed]",
      "text/plain": [
       "<Figure size 432x288 with 1 Axes>"
      ]
     },
     "metadata": {
      "needs_background": "light"
     },
     "output_type": "display_data"
    }
   ],
   "source": [
    "print(y1.value_counts())\n",
    "y1.value_counts().plot(kind=\"bar\")\n",
    "plt.title(\"Purchased Plan 1\")"
   ]
  },
  {
   "cell_type": "code",
   "execution_count": 20,
   "metadata": {},
   "outputs": [],
   "source": [
    "X = df3.drop([\"PurchasedPlan2\"], 1)\n",
    "y = df3[\"PurchasedPlan2\"]\n",
    "features = X.columns\n",
    "\n",
    "a = MinMaxScaler()\n",
    "x_scaled = a.fit_transform(X)\n",
    "x_scaled = pd.DataFrame(x_scaled, columns = features)\n",
    "\n",
    "X_res, y_res = smt.fit_resample(X,y)\n"
   ]
  },
  {
   "cell_type": "code",
   "execution_count": 21,
   "metadata": {},
   "outputs": [
    {
     "name": "stdout",
     "output_type": "stream",
     "text": [
      "PurchasedPlan1 Skewness:  0.862690466525261\n"
     ]
    }
   ],
   "source": [
    "print(\"PurchasedPlan1 Skewness: \", X_res[\"PurchasedPlan1\"].skew())"
   ]
  },
  {
   "cell_type": "code",
   "execution_count": 22,
   "metadata": {},
   "outputs": [],
   "source": [
    "X2 = X_res\n",
    "y2 = y_res"
   ]
  },
  {
   "cell_type": "code",
   "execution_count": 23,
   "metadata": {},
   "outputs": [
    {
     "name": "stdout",
     "output_type": "stream",
     "text": [
      "3    189\n",
      "2    189\n",
      "1    189\n",
      "Name: PurchasedPlan2, dtype: int64\n"
     ]
    },
    {
     "data": {
      "text/plain": [
       "Text(0.5, 1.0, 'Purchased Plan 2')"
      ]
     },
     "execution_count": 23,
     "metadata": {},
     "output_type": "execute_result"
    },
    {
     "data": {
      "image/png": "[encoded data removed]",
      "text/plain": [
       "<Figure size 432x288 with 1 Axes>"
      ]
     },
     "metadata": {
      "needs_background": "light"
     },
     "output_type": "display_data"
    }
   ],
   "source": [
    "print(y2.value_counts())\n",
    "y2.value_counts().plot(kind=\"bar\")\n",
    "plt.title(\"Purchased Plan 2\")"
   ]
  },
  {
   "cell_type": "code",
   "execution_count": 24,
   "metadata": {},
   "outputs": [
    {
     "data": {
      "text/plain": [
       "<matplotlib.axes._subplots.AxesSubplot at 0x2f0f6bd1250>"
      ]
     },
     "execution_count": 24,
     "metadata": {},
     "output_type": "execute_result"
    },
    {
     "data": {
      "image/png": "[encoded data removed]",
      "text/plain": [
       "<Figure size 432x288 with 1 Axes>"
      ]
     },
     "metadata": {
      "needs_background": "light"
     },
     "output_type": "display_data"
    }
   ],
   "source": [
    "sns.distplot(y1)"
   ]
  },
  {
   "cell_type": "markdown",
   "metadata": {},
   "source": [
    "# Exploratory Data Analysis\n",
    "\n",
    "To identify imporatant factors in data and understand the relationship."
   ]
  },
  {
   "cell_type": "code",
   "execution_count": 25,
   "metadata": {},
   "outputs": [],
   "source": [
    "df3 = df1.copy()"
   ]
  },
  {
   "cell_type": "markdown",
   "metadata": {},
   "source": [
    "## Question 1: Which age group is the most potential customer?"
   ]
  },
  {
   "cell_type": "code",
   "execution_count": 26,
   "metadata": {},
   "outputs": [
    {
     "data": {
      "text/plain": [
       "<matplotlib.axes._subplots.AxesSubplot at 0x2f0f6dc3520>"
      ]
     },
     "execution_count": 26,
     "metadata": {},
     "output_type": "execute_result"
    },
    {
     "data": {
      "image/png": "[encoded data removed]",
      "text/plain": [
       "<Figure size 432x288 with 1 Axes>"
      ]
     },
     "metadata": {
      "needs_background": "light"
     },
     "output_type": "display_data"
    }
   ],
   "source": [
    "# your codes here...\n",
    "bin_s = [0,10,20,30,40,50]\n",
    "count_s = df2['Age'].value_counts(bins=bin_s)\n",
    "count_s.plot(kind = \"bar\")"
   ]
  },
  {
   "cell_type": "code",
   "execution_count": 27,
   "metadata": {},
   "outputs": [
    {
     "data": {
      "text/plain": [
       "<matplotlib.axes._subplots.AxesSubplot at 0x2f0f6e273a0>"
      ]
     },
     "execution_count": 27,
     "metadata": {},
     "output_type": "execute_result"
    },
    {
     "data": {
      "image/png": "[encoded data removed]",
      "text/plain": [
       "<Figure size 432x288 with 1 Axes>"
      ]
     },
     "metadata": {
      "needs_background": "light"
     },
     "output_type": "display_data"
    }
   ],
   "source": [
    "df2['Age'].plot(kind = \"hist\", bins = bin_s)"
   ]
  },
  {
   "cell_type": "code",
   "execution_count": 28,
   "metadata": {},
   "outputs": [
    {
     "data": {
      "text/plain": [
       "<matplotlib.axes._subplots.AxesSubplot at 0x2f0f6e8c820>"
      ]
     },
     "execution_count": 28,
     "metadata": {},
     "output_type": "execute_result"
    },
    {
     "data": {
      "image/png": "[encoded data removed]",
      "text/plain": [
       "<Figure size 432x288 with 1 Axes>"
      ]
     },
     "metadata": {
      "needs_background": "light"
     },
     "output_type": "display_data"
    }
   ],
   "source": [
    "df2.groupby(['Gender', 'MaritalStatus']).size().unstack().plot(kind='barh', stacked=True)"
   ]
  },
  {
   "cell_type": "code",
   "execution_count": 29,
   "metadata": {},
   "outputs": [
    {
     "data": {
      "text/plain": [
       "<matplotlib.axes._subplots.AxesSubplot at 0x2f0f6d54460>"
      ]
     },
     "execution_count": 29,
     "metadata": {},
     "output_type": "execute_result"
    },
    {
     "data": {
      "image/png": "[encoded data removed]",
      "text/plain": [
       "<Figure size 432x288 with 1 Axes>"
      ]
     },
     "metadata": {
      "needs_background": "light"
     },
     "output_type": "display_data"
    }
   ],
   "source": [
    "df2.groupby(['Gender', 'HighestEducation']).size().unstack().plot(kind='barh', stacked=True)"
   ]
  },
  {
   "cell_type": "code",
   "execution_count": 30,
   "metadata": {},
   "outputs": [
    {
     "data": {
      "text/plain": [
       "<matplotlib.axes._subplots.AxesSubplot at 0x2f0f6f56f10>"
      ]
     },
     "execution_count": 30,
     "metadata": {},
     "output_type": "execute_result"
    },
    {
     "data": {
      "image/png": "[encoded data removed]",
      "text/plain": [
       "<Figure size 432x288 with 1 Axes>"
      ]
     },
     "metadata": {
      "needs_background": "light"
     },
     "output_type": "display_data"
    }
   ],
   "source": [
    "df2.groupby(['MaritalStatus', 'NoOfDependent']).size().unstack().plot(kind='barh', stacked=True)"
   ]
  },
  {
   "cell_type": "markdown",
   "metadata": {},
   "source": [
    "# Question : Health problem is one of the factors customer tend to buy the insurance."
   ]
  },
  {
   "cell_type": "code",
   "execution_count": 31,
   "metadata": {},
   "outputs": [
    {
     "data": {
      "text/plain": [
       "<matplotlib.axes._subplots.AxesSubplot at 0x2f0f6fe4d60>"
      ]
     },
     "execution_count": 31,
     "metadata": {},
     "output_type": "execute_result"
    },
    {
     "data": {
      "image/png": "[encoded data removed]",
      "text/plain": [
       "<Figure size 432x288 with 1 Axes>"
      ]
     },
     "metadata": {
      "needs_background": "light"
     },
     "output_type": "display_data"
    }
   ],
   "source": [
    "#df2['SmokerStatus'].plot(kind = \"hist\")\n",
    "smoke = df2['SmokerStatus'].value_counts()\n",
    "smoke.plot(kind = \"bar\")"
   ]
  },
  {
   "cell_type": "code",
   "execution_count": 32,
   "metadata": {},
   "outputs": [
    {
     "data": {
      "text/plain": [
       "<matplotlib.axes._subplots.AxesSubplot at 0x2f0f8010880>"
      ]
     },
     "execution_count": 32,
     "metadata": {},
     "output_type": "execute_result"
    },
    {
     "data": {
      "image/png": "[encoded data removed]",
      "text/plain": [
       "<Figure size 432x288 with 1 Axes>"
      ]
     },
     "metadata": {
      "needs_background": "light"
     },
     "output_type": "display_data"
    }
   ],
   "source": [
    "medical = df2['MedicalComplication'].value_counts()\n",
    "medical.plot(kind = \"bar\")"
   ]
  },
  {
   "cell_type": "code",
   "execution_count": 33,
   "metadata": {},
   "outputs": [
    {
     "data": {
      "text/plain": [
       "<matplotlib.axes._subplots.AxesSubplot at 0x2f0f8057f10>"
      ]
     },
     "execution_count": 33,
     "metadata": {},
     "output_type": "execute_result"
    },
    {
     "data": {
      "image/png": "[encoded data removed]",
      "text/plain": [
       "<Figure size 432x288 with 1 Axes>"
      ]
     },
     "metadata": {
      "needs_background": "light"
     },
     "output_type": "display_data"
    }
   ],
   "source": [
    "df2.groupby(['MedicalComplication', 'SmokerStatus']).size().unstack().plot(kind='barh', stacked=True)"
   ]
  },
  {
   "cell_type": "code",
   "execution_count": 34,
   "metadata": {},
   "outputs": [
    {
     "data": {
      "text/plain": [
       "<matplotlib.axes._subplots.AxesSubplot at 0x2f0f80cf820>"
      ]
     },
     "execution_count": 34,
     "metadata": {},
     "output_type": "execute_result"
    },
    {
     "data": {
      "image/png": "[encoded data removed]",
      "text/plain": [
       "<Figure size 432x288 with 1 Axes>"
      ]
     },
     "metadata": {
      "needs_background": "light"
     },
     "output_type": "display_data"
    }
   ],
   "source": [
    "df2.groupby(['Gender', 'SmokerStatus']).size().unstack().plot(kind='barh', stacked=True)"
   ]
  },
  {
   "cell_type": "code",
   "execution_count": 35,
   "metadata": {},
   "outputs": [
    {
     "data": {
      "text/plain": [
       "<matplotlib.axes._subplots.AxesSubplot at 0x2f0f815a370>"
      ]
     },
     "execution_count": 35,
     "metadata": {},
     "output_type": "execute_result"
    },
    {
     "data": {
      "image/png": "[encoded data removed]",
      "text/plain": [
       "<Figure size 432x288 with 1 Axes>"
      ]
     },
     "metadata": {
      "needs_background": "light"
     },
     "output_type": "display_data"
    }
   ],
   "source": [
    "df2.groupby(['LifeStyle', 'SmokerStatus']).size().unstack().plot(kind='barh', stacked=True)"
   ]
  },
  {
   "cell_type": "markdown",
   "metadata": {},
   "source": [
    "## Question : Any correlation between the lifestyle factors such as occupation, race with their education background."
   ]
  },
  {
   "cell_type": "code",
   "execution_count": 36,
   "metadata": {},
   "outputs": [
    {
     "data": {
      "text/plain": [
       "<matplotlib.axes._subplots.AxesSubplot at 0x2f0f81cdeb0>"
      ]
     },
     "execution_count": 36,
     "metadata": {},
     "output_type": "execute_result"
    },
    {
     "data": {
      "image/png": "[encoded data removed]",
      "text/plain": [
       "<Figure size 864x864 with 2 Axes>"
      ]
     },
     "metadata": {
      "needs_background": "light"
     },
     "output_type": "display_data"
    }
   ],
   "source": [
    "features = [\"MaritalStatus\", \"LifeStyle\", \"LanguageSpoken\",\n",
    "            \"HighestEducation\", \"Race\", \"MovingToNewCompany\", \"Occupation\", \"Telco\", \n",
    "            \"HomeAddress\", \"ResidentialType\", \"NoOfDependent\", \"FamilyExpenses(month)\", \n",
    "            \"AnnualSalary\",\"Transport\"]\n",
    "\n",
    "factor = df1[features]\n",
    "\n",
    "corr = factor.corr()\n",
    "\n",
    "plt.figure(figsize=(12,12))\n",
    "sns.heatmap(corr, vmax=.8, square=True, annot=True, fmt= '.2f',\n",
    "            annot_kws={'size': 15}, cmap=sns.color_palette(\"Reds\"))"
   ]
  },
  {
   "cell_type": "markdown",
   "metadata": {},
   "source": [
    "# Feature Selection"
   ]
  },
  {
   "cell_type": "markdown",
   "metadata": {},
   "source": [
    "### BORUTA"
   ]
  },
  {
   "cell_type": "code",
   "execution_count": 37,
   "metadata": {},
   "outputs": [],
   "source": [
    "from sklearn.ensemble import RandomForestClassifier\n",
    "from boruta import BorutaPy"
   ]
  },
  {
   "cell_type": "code",
   "execution_count": 38,
   "metadata": {},
   "outputs": [],
   "source": [
    "rf = RandomForestClassifier(n_jobs=-1, class_weight=\"balanced\", max_depth=5)\n",
    "feat_selector = BorutaPy(rf, n_estimators=\"auto\", random_state=1)"
   ]
  },
  {
   "cell_type": "code",
   "execution_count": 39,
   "metadata": {},
   "outputs": [],
   "source": [
    "def ranking(ranks, names, order=1):\n",
    "    minmax = MinMaxScaler()\n",
    "    ranks = minmax.fit_transform(order*np.array([ranks]).T).T[0]\n",
    "    ranks = map(lambda x: round(x,2), ranks)\n",
    "    return dict(zip(names, ranks))"
   ]
  },
  {
   "cell_type": "markdown",
   "metadata": {},
   "source": [
    "### PurchasedPlan1"
   ]
  },
  {
   "cell_type": "code",
   "execution_count": 40,
   "metadata": {},
   "outputs": [],
   "source": [
    "X = pd.get_dummies(X1, drop_first=True)\n",
    "feat_selector.fit(X.values,y1.values.ravel())\n",
    "colnames = X.columns\n",
    "\n",
    "boruta_score = ranking(list(map(float, feat_selector.ranking_)), colnames, order=-1)\n",
    "boruta_score = pd.DataFrame(list(boruta_score.items()), columns=['Features', 'Score'])\n",
    "boruta_score = boruta_score.sort_values(\"Score\", ascending = False)"
   ]
  },
  {
   "cell_type": "code",
   "execution_count": 41,
   "metadata": {},
   "outputs": [
    {
     "name": "stdout",
     "output_type": "stream",
     "text": [
      "---------Top 10----------\n"
     ]
    },
    {
     "data": {
      "text/html": [
       "<div>\n",
       "<style scoped>\n",
       "    .dataframe tbody tr th:only-of-type {\n",
       "        vertical-align: middle;\n",
       "    }\n",
       "\n",
       "    .dataframe tbody tr th {\n",
       "        vertical-align: top;\n",
       "    }\n",
       "\n",
       "    .dataframe thead th {\n",
       "        text-align: right;\n",
       "    }\n",
       "</style>\n",
       "<table border=\"1\" class=\"dataframe\">\n",
       "  <thead>\n",
       "    <tr style=\"text-align: right;\">\n",
       "      <th></th>\n",
       "      <th>Features</th>\n",
       "      <th>Score</th>\n",
       "    </tr>\n",
       "  </thead>\n",
       "  <tbody>\n",
       "    <tr>\n",
       "      <th>0</th>\n",
       "      <td>Age</td>\n",
       "      <td>1.00</td>\n",
       "    </tr>\n",
       "    <tr>\n",
       "      <th>15</th>\n",
       "      <td>NoOfDependent</td>\n",
       "      <td>1.00</td>\n",
       "    </tr>\n",
       "    <tr>\n",
       "      <th>17</th>\n",
       "      <td>AnnualSalary</td>\n",
       "      <td>1.00</td>\n",
       "    </tr>\n",
       "    <tr>\n",
       "      <th>16</th>\n",
       "      <td>FamilyExpenses(month)</td>\n",
       "      <td>1.00</td>\n",
       "    </tr>\n",
       "    <tr>\n",
       "      <th>11</th>\n",
       "      <td>Occupation</td>\n",
       "      <td>1.00</td>\n",
       "    </tr>\n",
       "    <tr>\n",
       "      <th>3</th>\n",
       "      <td>SmokerStatus</td>\n",
       "      <td>1.00</td>\n",
       "    </tr>\n",
       "    <tr>\n",
       "      <th>22</th>\n",
       "      <td>MedicalComplication</td>\n",
       "      <td>0.94</td>\n",
       "    </tr>\n",
       "    <tr>\n",
       "      <th>19</th>\n",
       "      <td>Customer_Needs_2</td>\n",
       "      <td>0.88</td>\n",
       "    </tr>\n",
       "    <tr>\n",
       "      <th>14</th>\n",
       "      <td>ResidentialType</td>\n",
       "      <td>0.82</td>\n",
       "    </tr>\n",
       "    <tr>\n",
       "      <th>2</th>\n",
       "      <td>MaritalStatus</td>\n",
       "      <td>0.76</td>\n",
       "    </tr>\n",
       "  </tbody>\n",
       "</table>\n",
       "</div>"
      ],
      "text/plain": [
       "                 Features  Score\n",
       "0                     Age   1.00\n",
       "15          NoOfDependent   1.00\n",
       "17           AnnualSalary   1.00\n",
       "16  FamilyExpenses(month)   1.00\n",
       "11             Occupation   1.00\n",
       "3            SmokerStatus   1.00\n",
       "22    MedicalComplication   0.94\n",
       "19       Customer_Needs_2   0.88\n",
       "14        ResidentialType   0.82\n",
       "2           MaritalStatus   0.76"
      ]
     },
     "metadata": {},
     "output_type": "display_data"
    },
    {
     "name": "stdout",
     "output_type": "stream",
     "text": [
      "---------Bottom 10----------\n"
     ]
    },
    {
     "data": {
      "text/html": [
       "<div>\n",
       "<style scoped>\n",
       "    .dataframe tbody tr th:only-of-type {\n",
       "        vertical-align: middle;\n",
       "    }\n",
       "\n",
       "    .dataframe tbody tr th {\n",
       "        vertical-align: top;\n",
       "    }\n",
       "\n",
       "    .dataframe thead th {\n",
       "        text-align: right;\n",
       "    }\n",
       "</style>\n",
       "<table border=\"1\" class=\"dataframe\">\n",
       "  <thead>\n",
       "    <tr style=\"text-align: right;\">\n",
       "      <th></th>\n",
       "      <th>Features</th>\n",
       "      <th>Score</th>\n",
       "    </tr>\n",
       "  </thead>\n",
       "  <tbody>\n",
       "    <tr>\n",
       "      <th>12</th>\n",
       "      <td>Telco</td>\n",
       "      <td>0.53</td>\n",
       "    </tr>\n",
       "    <tr>\n",
       "      <th>5</th>\n",
       "      <td>LanguageSpoken</td>\n",
       "      <td>0.47</td>\n",
       "    </tr>\n",
       "    <tr>\n",
       "      <th>21</th>\n",
       "      <td>PurchasedPlan2</td>\n",
       "      <td>0.41</td>\n",
       "    </tr>\n",
       "    <tr>\n",
       "      <th>8</th>\n",
       "      <td>Nationality</td>\n",
       "      <td>0.35</td>\n",
       "    </tr>\n",
       "    <tr>\n",
       "      <th>4</th>\n",
       "      <td>LifeStyle</td>\n",
       "      <td>0.29</td>\n",
       "    </tr>\n",
       "    <tr>\n",
       "      <th>13</th>\n",
       "      <td>HomeAddress</td>\n",
       "      <td>0.24</td>\n",
       "    </tr>\n",
       "    <tr>\n",
       "      <th>20</th>\n",
       "      <td>Transport</td>\n",
       "      <td>0.18</td>\n",
       "    </tr>\n",
       "    <tr>\n",
       "      <th>6</th>\n",
       "      <td>HighestEducation</td>\n",
       "      <td>0.12</td>\n",
       "    </tr>\n",
       "    <tr>\n",
       "      <th>9</th>\n",
       "      <td>MalaysiaPR</td>\n",
       "      <td>0.06</td>\n",
       "    </tr>\n",
       "    <tr>\n",
       "      <th>1</th>\n",
       "      <td>Gender</td>\n",
       "      <td>0.00</td>\n",
       "    </tr>\n",
       "  </tbody>\n",
       "</table>\n",
       "</div>"
      ],
      "text/plain": [
       "            Features  Score\n",
       "12             Telco   0.53\n",
       "5     LanguageSpoken   0.47\n",
       "21    PurchasedPlan2   0.41\n",
       "8        Nationality   0.35\n",
       "4          LifeStyle   0.29\n",
       "13       HomeAddress   0.24\n",
       "20         Transport   0.18\n",
       "6   HighestEducation   0.12\n",
       "9         MalaysiaPR   0.06\n",
       "1             Gender   0.00"
      ]
     },
     "execution_count": 41,
     "metadata": {},
     "output_type": "execute_result"
    }
   ],
   "source": [
    "print('---------Top 10----------')\n",
    "display(boruta_score.head(10))\n",
    "\n",
    "print('---------Bottom 10----------')\n",
    "boruta_score.tail(10)"
   ]
  },
  {
   "cell_type": "markdown",
   "metadata": {},
   "source": [
    "### PurchasedPlan2"
   ]
  },
  {
   "cell_type": "code",
   "execution_count": 42,
   "metadata": {},
   "outputs": [],
   "source": [
    "X = pd.get_dummies(X2, drop_first=True)\n",
    "feat_selector.fit(X.values,y2.values.ravel())\n",
    "colnames = X.columns\n",
    "\n",
    "boruta_score = ranking(list(map(float, feat_selector.ranking_)), colnames, order=-1)\n",
    "boruta_score = pd.DataFrame(list(boruta_score.items()), columns=['Features', 'Score'])\n",
    "boruta_score = boruta_score.sort_values(\"Score\", ascending = False)"
   ]
  },
  {
   "cell_type": "code",
   "execution_count": 43,
   "metadata": {},
   "outputs": [
    {
     "name": "stdout",
     "output_type": "stream",
     "text": [
      "---------Top 10----------\n"
     ]
    },
    {
     "data": {
      "text/html": [
       "<div>\n",
       "<style scoped>\n",
       "    .dataframe tbody tr th:only-of-type {\n",
       "        vertical-align: middle;\n",
       "    }\n",
       "\n",
       "    .dataframe tbody tr th {\n",
       "        vertical-align: top;\n",
       "    }\n",
       "\n",
       "    .dataframe thead th {\n",
       "        text-align: right;\n",
       "    }\n",
       "</style>\n",
       "<table border=\"1\" class=\"dataframe\">\n",
       "  <thead>\n",
       "    <tr style=\"text-align: right;\">\n",
       "      <th></th>\n",
       "      <th>Features</th>\n",
       "      <th>Score</th>\n",
       "    </tr>\n",
       "  </thead>\n",
       "  <tbody>\n",
       "    <tr>\n",
       "      <th>17</th>\n",
       "      <td>AnnualSalary</td>\n",
       "      <td>1.00</td>\n",
       "    </tr>\n",
       "    <tr>\n",
       "      <th>16</th>\n",
       "      <td>FamilyExpenses(month)</td>\n",
       "      <td>1.00</td>\n",
       "    </tr>\n",
       "    <tr>\n",
       "      <th>0</th>\n",
       "      <td>Age</td>\n",
       "      <td>0.95</td>\n",
       "    </tr>\n",
       "    <tr>\n",
       "      <th>12</th>\n",
       "      <td>Telco</td>\n",
       "      <td>0.90</td>\n",
       "    </tr>\n",
       "    <tr>\n",
       "      <th>6</th>\n",
       "      <td>HighestEducation</td>\n",
       "      <td>0.86</td>\n",
       "    </tr>\n",
       "    <tr>\n",
       "      <th>5</th>\n",
       "      <td>LanguageSpoken</td>\n",
       "      <td>0.81</td>\n",
       "    </tr>\n",
       "    <tr>\n",
       "      <th>7</th>\n",
       "      <td>Race</td>\n",
       "      <td>0.76</td>\n",
       "    </tr>\n",
       "    <tr>\n",
       "      <th>18</th>\n",
       "      <td>Customer_Needs_1</td>\n",
       "      <td>0.71</td>\n",
       "    </tr>\n",
       "    <tr>\n",
       "      <th>14</th>\n",
       "      <td>ResidentialType</td>\n",
       "      <td>0.67</td>\n",
       "    </tr>\n",
       "    <tr>\n",
       "      <th>11</th>\n",
       "      <td>Occupation</td>\n",
       "      <td>0.67</td>\n",
       "    </tr>\n",
       "  </tbody>\n",
       "</table>\n",
       "</div>"
      ],
      "text/plain": [
       "                 Features  Score\n",
       "17           AnnualSalary   1.00\n",
       "16  FamilyExpenses(month)   1.00\n",
       "0                     Age   0.95\n",
       "12                  Telco   0.90\n",
       "6        HighestEducation   0.86\n",
       "5          LanguageSpoken   0.81\n",
       "7                    Race   0.76\n",
       "18       Customer_Needs_1   0.71\n",
       "14        ResidentialType   0.67\n",
       "11             Occupation   0.67"
      ]
     },
     "metadata": {},
     "output_type": "display_data"
    },
    {
     "name": "stdout",
     "output_type": "stream",
     "text": [
      "---------Bottom 10----------\n"
     ]
    },
    {
     "data": {
      "text/html": [
       "<div>\n",
       "<style scoped>\n",
       "    .dataframe tbody tr th:only-of-type {\n",
       "        vertical-align: middle;\n",
       "    }\n",
       "\n",
       "    .dataframe tbody tr th {\n",
       "        vertical-align: top;\n",
       "    }\n",
       "\n",
       "    .dataframe thead th {\n",
       "        text-align: right;\n",
       "    }\n",
       "</style>\n",
       "<table border=\"1\" class=\"dataframe\">\n",
       "  <thead>\n",
       "    <tr style=\"text-align: right;\">\n",
       "      <th></th>\n",
       "      <th>Features</th>\n",
       "      <th>Score</th>\n",
       "    </tr>\n",
       "  </thead>\n",
       "  <tbody>\n",
       "    <tr>\n",
       "      <th>20</th>\n",
       "      <td>PurchasedPlan1</td>\n",
       "      <td>0.43</td>\n",
       "    </tr>\n",
       "    <tr>\n",
       "      <th>4</th>\n",
       "      <td>LifeStyle</td>\n",
       "      <td>0.38</td>\n",
       "    </tr>\n",
       "    <tr>\n",
       "      <th>8</th>\n",
       "      <td>Nationality</td>\n",
       "      <td>0.33</td>\n",
       "    </tr>\n",
       "    <tr>\n",
       "      <th>2</th>\n",
       "      <td>MaritalStatus</td>\n",
       "      <td>0.29</td>\n",
       "    </tr>\n",
       "    <tr>\n",
       "      <th>19</th>\n",
       "      <td>Customer_Needs_2</td>\n",
       "      <td>0.24</td>\n",
       "    </tr>\n",
       "    <tr>\n",
       "      <th>10</th>\n",
       "      <td>MovingToNewCompany</td>\n",
       "      <td>0.19</td>\n",
       "    </tr>\n",
       "    <tr>\n",
       "      <th>9</th>\n",
       "      <td>MalaysiaPR</td>\n",
       "      <td>0.14</td>\n",
       "    </tr>\n",
       "    <tr>\n",
       "      <th>21</th>\n",
       "      <td>Transport</td>\n",
       "      <td>0.14</td>\n",
       "    </tr>\n",
       "    <tr>\n",
       "      <th>1</th>\n",
       "      <td>Gender</td>\n",
       "      <td>0.05</td>\n",
       "    </tr>\n",
       "    <tr>\n",
       "      <th>22</th>\n",
       "      <td>MedicalComplication</td>\n",
       "      <td>0.00</td>\n",
       "    </tr>\n",
       "  </tbody>\n",
       "</table>\n",
       "</div>"
      ],
      "text/plain": [
       "               Features  Score\n",
       "20       PurchasedPlan1   0.43\n",
       "4             LifeStyle   0.38\n",
       "8           Nationality   0.33\n",
       "2         MaritalStatus   0.29\n",
       "19     Customer_Needs_2   0.24\n",
       "10   MovingToNewCompany   0.19\n",
       "9            MalaysiaPR   0.14\n",
       "21            Transport   0.14\n",
       "1                Gender   0.05\n",
       "22  MedicalComplication   0.00"
      ]
     },
     "execution_count": 43,
     "metadata": {},
     "output_type": "execute_result"
    }
   ],
   "source": [
    "print('---------Top 10----------')\n",
    "display(boruta_score.head(10))\n",
    "\n",
    "print('---------Bottom 10----------')\n",
    "boruta_score.tail(10)"
   ]
  },
  {
   "cell_type": "code",
   "execution_count": 44,
   "metadata": {},
   "outputs": [
    {
     "data": {
      "text/plain": [
       "Text(0.5, 1.0, 'PurchasedPlan 2 Boruta Top 30 Features')"
      ]
     },
     "execution_count": 44,
     "metadata": {},
     "output_type": "execute_result"
    },
    {
     "data": {
      "image/png": "[encoded data removed]",
      "text/plain": [
       "<Figure size 1915.2x1008 with 1 Axes>"
      ]
     },
     "metadata": {
      "needs_background": "light"
     },
     "output_type": "display_data"
    }
   ],
   "source": [
    "sns_boruta_plot = sns.catplot(x=\"Score\", y=\"Features\", data = boruta_score[0:30], kind = \"bar\", \n",
    "               height=14, aspect=1.9, palette='coolwarm')\n",
    "plt.title(\"PurchasedPlan 2 Boruta Top 30 Features\")"
   ]
  },
  {
   "cell_type": "markdown",
   "metadata": {},
   "source": [
    "# Classification"
   ]
  },
  {
   "cell_type": "code",
   "execution_count": 45,
   "metadata": {},
   "outputs": [],
   "source": [
    "from sklearn.model_selection import train_test_split \n",
    "from sklearn.metrics import accuracy_score, precision_score, recall_score, f1_score\n",
    "from sklearn.metrics import roc_auc_score, roc_curve, confusion_matrix\n",
    "\n",
    "\n",
    "from sklearn.tree import DecisionTreeClassifier \n",
    "from sklearn.naive_bayes import GaussianNB"
   ]
  },
  {
   "cell_type": "code",
   "execution_count": 46,
   "metadata": {},
   "outputs": [],
   "source": [
    "from sklearn import metrics\n",
    "from sklearn import tree"
   ]
  },
  {
   "cell_type": "markdown",
   "metadata": {},
   "source": [
    "## Split train-test dataset"
   ]
  },
  {
   "cell_type": "code",
   "execution_count": 47,
   "metadata": {},
   "outputs": [],
   "source": [
    "df3 = df1.copy()"
   ]
  },
  {
   "cell_type": "code",
   "execution_count": 48,
   "metadata": {},
   "outputs": [
    {
     "data": {
      "text/html": [
       "<div>\n",
       "<style scoped>\n",
       "    .dataframe tbody tr th:only-of-type {\n",
       "        vertical-align: middle;\n",
       "    }\n",
       "\n",
       "    .dataframe tbody tr th {\n",
       "        vertical-align: top;\n",
       "    }\n",
       "\n",
       "    .dataframe thead th {\n",
       "        text-align: right;\n",
       "    }\n",
       "</style>\n",
       "<table border=\"1\" class=\"dataframe\">\n",
       "  <thead>\n",
       "    <tr style=\"text-align: right;\">\n",
       "      <th></th>\n",
       "      <th>Age</th>\n",
       "      <th>Gender</th>\n",
       "      <th>MaritalStatus</th>\n",
       "      <th>SmokerStatus</th>\n",
       "      <th>LifeStyle</th>\n",
       "      <th>LanguageSpoken</th>\n",
       "      <th>HighestEducation</th>\n",
       "      <th>Race</th>\n",
       "      <th>Nationality</th>\n",
       "      <th>MalaysiaPR</th>\n",
       "      <th>...</th>\n",
       "      <th>ResidentialType</th>\n",
       "      <th>NoOfDependent</th>\n",
       "      <th>FamilyExpenses(month)</th>\n",
       "      <th>AnnualSalary</th>\n",
       "      <th>Customer_Needs_1</th>\n",
       "      <th>Customer_Needs_2</th>\n",
       "      <th>PurchasedPlan1</th>\n",
       "      <th>Transport</th>\n",
       "      <th>PurchasedPlan2</th>\n",
       "      <th>MedicalComplication</th>\n",
       "    </tr>\n",
       "  </thead>\n",
       "  <tbody>\n",
       "    <tr>\n",
       "      <th>0</th>\n",
       "      <td>35.0</td>\n",
       "      <td>1</td>\n",
       "      <td>1</td>\n",
       "      <td>1</td>\n",
       "      <td>1</td>\n",
       "      <td>1</td>\n",
       "      <td>1</td>\n",
       "      <td>1</td>\n",
       "      <td>1</td>\n",
       "      <td>1</td>\n",
       "      <td>...</td>\n",
       "      <td>1</td>\n",
       "      <td>2.000000</td>\n",
       "      <td>10242.000000</td>\n",
       "      <td>118087.540698</td>\n",
       "      <td>1</td>\n",
       "      <td>1</td>\n",
       "      <td>1</td>\n",
       "      <td>1</td>\n",
       "      <td>1</td>\n",
       "      <td>1</td>\n",
       "    </tr>\n",
       "    <tr>\n",
       "      <th>1</th>\n",
       "      <td>25.0</td>\n",
       "      <td>2</td>\n",
       "      <td>2</td>\n",
       "      <td>1</td>\n",
       "      <td>2</td>\n",
       "      <td>2</td>\n",
       "      <td>2</td>\n",
       "      <td>2</td>\n",
       "      <td>2</td>\n",
       "      <td>2</td>\n",
       "      <td>...</td>\n",
       "      <td>1</td>\n",
       "      <td>2.000000</td>\n",
       "      <td>6335.403694</td>\n",
       "      <td>73926.000000</td>\n",
       "      <td>2</td>\n",
       "      <td>1</td>\n",
       "      <td>1</td>\n",
       "      <td>1</td>\n",
       "      <td>2</td>\n",
       "      <td>2</td>\n",
       "    </tr>\n",
       "    <tr>\n",
       "      <th>2</th>\n",
       "      <td>27.0</td>\n",
       "      <td>2</td>\n",
       "      <td>2</td>\n",
       "      <td>2</td>\n",
       "      <td>3</td>\n",
       "      <td>1</td>\n",
       "      <td>1</td>\n",
       "      <td>3</td>\n",
       "      <td>1</td>\n",
       "      <td>2</td>\n",
       "      <td>...</td>\n",
       "      <td>2</td>\n",
       "      <td>2.000000</td>\n",
       "      <td>4316.000000</td>\n",
       "      <td>140734.000000</td>\n",
       "      <td>3</td>\n",
       "      <td>1</td>\n",
       "      <td>1</td>\n",
       "      <td>1</td>\n",
       "      <td>3</td>\n",
       "      <td>2</td>\n",
       "    </tr>\n",
       "    <tr>\n",
       "      <th>3</th>\n",
       "      <td>33.0</td>\n",
       "      <td>1</td>\n",
       "      <td>2</td>\n",
       "      <td>3</td>\n",
       "      <td>3</td>\n",
       "      <td>1</td>\n",
       "      <td>1</td>\n",
       "      <td>1</td>\n",
       "      <td>2</td>\n",
       "      <td>1</td>\n",
       "      <td>...</td>\n",
       "      <td>1</td>\n",
       "      <td>3.337438</td>\n",
       "      <td>4845.000000</td>\n",
       "      <td>118087.540698</td>\n",
       "      <td>1</td>\n",
       "      <td>2</td>\n",
       "      <td>1</td>\n",
       "      <td>1</td>\n",
       "      <td>1</td>\n",
       "      <td>1</td>\n",
       "    </tr>\n",
       "    <tr>\n",
       "      <th>4</th>\n",
       "      <td>28.0</td>\n",
       "      <td>1</td>\n",
       "      <td>2</td>\n",
       "      <td>3</td>\n",
       "      <td>1</td>\n",
       "      <td>1</td>\n",
       "      <td>1</td>\n",
       "      <td>2</td>\n",
       "      <td>2</td>\n",
       "      <td>1</td>\n",
       "      <td>...</td>\n",
       "      <td>2</td>\n",
       "      <td>2.000000</td>\n",
       "      <td>9883.000000</td>\n",
       "      <td>98833.000000</td>\n",
       "      <td>2</td>\n",
       "      <td>3</td>\n",
       "      <td>3</td>\n",
       "      <td>1</td>\n",
       "      <td>3</td>\n",
       "      <td>2</td>\n",
       "    </tr>\n",
       "  </tbody>\n",
       "</table>\n",
       "<p>5 rows × 24 columns</p>\n",
       "</div>"
      ],
      "text/plain": [
       "    Age  Gender  MaritalStatus  SmokerStatus  LifeStyle  LanguageSpoken  \\\n",
       "0  35.0       1              1             1          1               1   \n",
       "1  25.0       2              2             1          2               2   \n",
       "2  27.0       2              2             2          3               1   \n",
       "3  33.0       1              2             3          3               1   \n",
       "4  28.0       1              2             3          1               1   \n",
       "\n",
       "   HighestEducation  Race  Nationality  MalaysiaPR  ...  ResidentialType  \\\n",
       "0                 1     1            1           1  ...                1   \n",
       "1                 2     2            2           2  ...                1   \n",
       "2                 1     3            1           2  ...                2   \n",
       "3                 1     1            2           1  ...                1   \n",
       "4                 1     2            2           1  ...                2   \n",
       "\n",
       "   NoOfDependent  FamilyExpenses(month)   AnnualSalary  Customer_Needs_1  \\\n",
       "0       2.000000           10242.000000  118087.540698                 1   \n",
       "1       2.000000            6335.403694   73926.000000                 2   \n",
       "2       2.000000            4316.000000  140734.000000                 3   \n",
       "3       3.337438            4845.000000  118087.540698                 1   \n",
       "4       2.000000            9883.000000   98833.000000                 2   \n",
       "\n",
       "   Customer_Needs_2  PurchasedPlan1  Transport  PurchasedPlan2  \\\n",
       "0                 1               1          1               1   \n",
       "1                 1               1          1               2   \n",
       "2                 1               1          1               3   \n",
       "3                 2               1          1               1   \n",
       "4                 3               3          1               3   \n",
       "\n",
       "   MedicalComplication  \n",
       "0                    1  \n",
       "1                    2  \n",
       "2                    2  \n",
       "3                    1  \n",
       "4                    2  \n",
       "\n",
       "[5 rows x 24 columns]"
      ]
     },
     "execution_count": 48,
     "metadata": {},
     "output_type": "execute_result"
    }
   ],
   "source": [
    "df1.head()"
   ]
  },
  {
   "cell_type": "code",
   "execution_count": 49,
   "metadata": {},
   "outputs": [
    {
     "data": {
      "text/html": [
       "<div>\n",
       "<style scoped>\n",
       "    .dataframe tbody tr th:only-of-type {\n",
       "        vertical-align: middle;\n",
       "    }\n",
       "\n",
       "    .dataframe tbody tr th {\n",
       "        vertical-align: top;\n",
       "    }\n",
       "\n",
       "    .dataframe thead th {\n",
       "        text-align: right;\n",
       "    }\n",
       "</style>\n",
       "<table border=\"1\" class=\"dataframe\">\n",
       "  <thead>\n",
       "    <tr style=\"text-align: right;\">\n",
       "      <th></th>\n",
       "      <th>Age</th>\n",
       "      <th>Gender</th>\n",
       "      <th>MaritalStatus</th>\n",
       "      <th>SmokerStatus</th>\n",
       "      <th>LifeStyle</th>\n",
       "      <th>LanguageSpoken</th>\n",
       "      <th>HighestEducation</th>\n",
       "      <th>Race</th>\n",
       "      <th>Nationality</th>\n",
       "      <th>MalaysiaPR</th>\n",
       "      <th>...</th>\n",
       "      <th>ResidentialType</th>\n",
       "      <th>NoOfDependent</th>\n",
       "      <th>FamilyExpenses(month)</th>\n",
       "      <th>AnnualSalary</th>\n",
       "      <th>Customer_Needs_1</th>\n",
       "      <th>Customer_Needs_2</th>\n",
       "      <th>PurchasedPlan1</th>\n",
       "      <th>Transport</th>\n",
       "      <th>PurchasedPlan2</th>\n",
       "      <th>MedicalComplication</th>\n",
       "    </tr>\n",
       "  </thead>\n",
       "  <tbody>\n",
       "    <tr>\n",
       "      <th>0</th>\n",
       "      <td>35.0</td>\n",
       "      <td>female</td>\n",
       "      <td>single</td>\n",
       "      <td>Unknown</td>\n",
       "      <td>home</td>\n",
       "      <td>english</td>\n",
       "      <td>Bachelor</td>\n",
       "      <td>malay</td>\n",
       "      <td>Unspecified</td>\n",
       "      <td>yes</td>\n",
       "      <td>...</td>\n",
       "      <td>terrace</td>\n",
       "      <td>2.000000</td>\n",
       "      <td>10242.000000</td>\n",
       "      <td>118087.540698</td>\n",
       "      <td>PersonalSaving</td>\n",
       "      <td>KidMedical</td>\n",
       "      <td>SchoolAgain</td>\n",
       "      <td>driving</td>\n",
       "      <td>NoMoneyDown</td>\n",
       "      <td>no</td>\n",
       "    </tr>\n",
       "    <tr>\n",
       "      <th>1</th>\n",
       "      <td>25.0</td>\n",
       "      <td>male</td>\n",
       "      <td>Unspecified Status</td>\n",
       "      <td>Unknown</td>\n",
       "      <td>outdoor</td>\n",
       "      <td>malay</td>\n",
       "      <td>Diploma</td>\n",
       "      <td>chinese</td>\n",
       "      <td>Malaysian</td>\n",
       "      <td>no</td>\n",
       "      <td>...</td>\n",
       "      <td>terrace</td>\n",
       "      <td>2.000000</td>\n",
       "      <td>6335.403694</td>\n",
       "      <td>73926.000000</td>\n",
       "      <td>PersonalRetirement</td>\n",
       "      <td>KidMedical</td>\n",
       "      <td>SchoolAgain</td>\n",
       "      <td>driving</td>\n",
       "      <td>XEdu</td>\n",
       "      <td>yes</td>\n",
       "    </tr>\n",
       "    <tr>\n",
       "      <th>2</th>\n",
       "      <td>27.0</td>\n",
       "      <td>male</td>\n",
       "      <td>Unspecified Status</td>\n",
       "      <td>frequent</td>\n",
       "      <td>pub_goer</td>\n",
       "      <td>english</td>\n",
       "      <td>Bachelor</td>\n",
       "      <td>others</td>\n",
       "      <td>Unspecified</td>\n",
       "      <td>no</td>\n",
       "      <td>...</td>\n",
       "      <td>condominium</td>\n",
       "      <td>2.000000</td>\n",
       "      <td>4316.000000</td>\n",
       "      <td>140734.000000</td>\n",
       "      <td>PersonalMedical</td>\n",
       "      <td>KidMedical</td>\n",
       "      <td>SchoolAgain</td>\n",
       "      <td>driving</td>\n",
       "      <td>KidsFlyUp</td>\n",
       "      <td>yes</td>\n",
       "    </tr>\n",
       "    <tr>\n",
       "      <th>3</th>\n",
       "      <td>33.0</td>\n",
       "      <td>female</td>\n",
       "      <td>Unspecified Status</td>\n",
       "      <td>once_in_a_while</td>\n",
       "      <td>pub_goer</td>\n",
       "      <td>english</td>\n",
       "      <td>Bachelor</td>\n",
       "      <td>malay</td>\n",
       "      <td>Malaysian</td>\n",
       "      <td>yes</td>\n",
       "      <td>...</td>\n",
       "      <td>terrace</td>\n",
       "      <td>3.337438</td>\n",
       "      <td>4845.000000</td>\n",
       "      <td>118087.540698</td>\n",
       "      <td>PersonalSaving</td>\n",
       "      <td>KidSaving</td>\n",
       "      <td>SchoolAgain</td>\n",
       "      <td>driving</td>\n",
       "      <td>NoMoneyDown</td>\n",
       "      <td>no</td>\n",
       "    </tr>\n",
       "    <tr>\n",
       "      <th>4</th>\n",
       "      <td>28.0</td>\n",
       "      <td>female</td>\n",
       "      <td>Unspecified Status</td>\n",
       "      <td>once_in_a_while</td>\n",
       "      <td>home</td>\n",
       "      <td>english</td>\n",
       "      <td>Bachelor</td>\n",
       "      <td>chinese</td>\n",
       "      <td>Malaysian</td>\n",
       "      <td>yes</td>\n",
       "      <td>...</td>\n",
       "      <td>condominium</td>\n",
       "      <td>2.000000</td>\n",
       "      <td>9883.000000</td>\n",
       "      <td>98833.000000</td>\n",
       "      <td>PersonalRetirement</td>\n",
       "      <td>KidEducation</td>\n",
       "      <td>COVIDFree</td>\n",
       "      <td>driving</td>\n",
       "      <td>KidsFlyUp</td>\n",
       "      <td>yes</td>\n",
       "    </tr>\n",
       "  </tbody>\n",
       "</table>\n",
       "<p>5 rows × 24 columns</p>\n",
       "</div>"
      ],
      "text/plain": [
       "    Age  Gender       MaritalStatus     SmokerStatus LifeStyle LanguageSpoken  \\\n",
       "0  35.0  female              single          Unknown      home        english   \n",
       "1  25.0    male  Unspecified Status          Unknown   outdoor          malay   \n",
       "2  27.0    male  Unspecified Status         frequent  pub_goer        english   \n",
       "3  33.0  female  Unspecified Status  once_in_a_while  pub_goer        english   \n",
       "4  28.0  female  Unspecified Status  once_in_a_while      home        english   \n",
       "\n",
       "  HighestEducation     Race  Nationality MalaysiaPR  ... ResidentialType  \\\n",
       "0         Bachelor    malay  Unspecified        yes  ...         terrace   \n",
       "1          Diploma  chinese    Malaysian         no  ...         terrace   \n",
       "2         Bachelor   others  Unspecified         no  ...     condominium   \n",
       "3         Bachelor    malay    Malaysian        yes  ...         terrace   \n",
       "4         Bachelor  chinese    Malaysian        yes  ...     condominium   \n",
       "\n",
       "  NoOfDependent FamilyExpenses(month)   AnnualSalary    Customer_Needs_1  \\\n",
       "0      2.000000          10242.000000  118087.540698      PersonalSaving   \n",
       "1      2.000000           6335.403694   73926.000000  PersonalRetirement   \n",
       "2      2.000000           4316.000000  140734.000000     PersonalMedical   \n",
       "3      3.337438           4845.000000  118087.540698      PersonalSaving   \n",
       "4      2.000000           9883.000000   98833.000000  PersonalRetirement   \n",
       "\n",
       "   Customer_Needs_2  PurchasedPlan1  Transport PurchasedPlan2  \\\n",
       "0        KidMedical     SchoolAgain    driving    NoMoneyDown   \n",
       "1        KidMedical     SchoolAgain    driving           XEdu   \n",
       "2        KidMedical     SchoolAgain    driving      KidsFlyUp   \n",
       "3         KidSaving     SchoolAgain    driving    NoMoneyDown   \n",
       "4      KidEducation       COVIDFree    driving      KidsFlyUp   \n",
       "\n",
       "  MedicalComplication  \n",
       "0                  no  \n",
       "1                 yes  \n",
       "2                 yes  \n",
       "3                  no  \n",
       "4                 yes  \n",
       "\n",
       "[5 rows x 24 columns]"
      ]
     },
     "execution_count": 49,
     "metadata": {},
     "output_type": "execute_result"
    }
   ],
   "source": [
    "df2.head()"
   ]
  },
  {
   "cell_type": "markdown",
   "metadata": {},
   "source": [
    "### Naive Bayes"
   ]
  },
  {
   "cell_type": "code",
   "execution_count": 50,
   "metadata": {},
   "outputs": [],
   "source": [
    "nb = GaussianNB()"
   ]
  },
  {
   "cell_type": "markdown",
   "metadata": {},
   "source": [
    "#### PurchasePlan1"
   ]
  },
  {
   "cell_type": "code",
   "execution_count": 51,
   "metadata": {},
   "outputs": [],
   "source": [
    "#df_X = df1.drop(['PurchasedPlan1','PurchasedPlan2'], axis=1)\n",
    "\n",
    "#X = pd.get_dummies(df_X, drop_first=True)\n",
    "#y1 = df2['PurchasedPlan1']\n",
    "#y2 = df2['PurchasedPlan2']\n",
    "\n",
    "X = pd.get_dummies(X1, drop_first=True)\n"
   ]
  },
  {
   "cell_type": "code",
   "execution_count": 52,
   "metadata": {},
   "outputs": [
    {
     "name": "stdout",
     "output_type": "stream",
     "text": [
      "Accuracy on training set: 0.519\n",
      "Accuracy on test set: 0.514\n"
     ]
    }
   ],
   "source": [
    "# PurchasedPlan1\n",
    "X_train, X_test, y_train, y_test = train_test_split(X, y1,test_size=0.2, random_state=10)\n",
    "nb.fit(X_train, y_train)\n",
    "y_pred = nb.predict(X_test)\n",
    "\n",
    "# Model Accuracy\n",
    "\n",
    "print(\"Accuracy on training set: {:.3f}\".format(nb.score(X_train, y_train)))\n",
    "print(\"Accuracy on test set: {:.3f}\".format(nb.score(X_test, y_test)))"
   ]
  },
  {
   "cell_type": "code",
   "execution_count": 53,
   "metadata": {},
   "outputs": [
    {
     "name": "stdout",
     "output_type": "stream",
     "text": [
      "Mjority classifier Confusion Matrix\n",
      " [[14 21 20]\n",
      " [ 9 45 12]\n",
      " [ 9 15 32]]\n",
      "**********************\n",
      "Mjority TN=  14\n",
      "Mjority FP= 21\n",
      "Mjority FN=  9\n",
      "Mjority TP=  45\n",
      "**********************\n",
      "Precision= 0.50\n",
      "Recall= 0.50\n",
      "F1= 0.49\n",
      "Accuracy= 0.51\n"
     ]
    }
   ],
   "source": [
    "confusion_majority=confusion_matrix(y_test, y_pred)\n",
    "\n",
    "print('Mjority classifier Confusion Matrix\\n', confusion_majority)\n",
    "\n",
    "print('**********************')\n",
    "print('Mjority TN= ', confusion_majority[0][0])\n",
    "print('Mjority FP=', confusion_majority[0][1])\n",
    "print('Mjority FN= ', confusion_majority[1][0])\n",
    "print('Mjority TP= ', confusion_majority[1][1])\n",
    "print('**********************')\n",
    "\n",
    "\n",
    "print('Precision= {:.2f}'. format(precision_score(y_test, y_pred, average='macro')))\n",
    "print('Recall= {:.2f}'. format(recall_score(y_test, y_pred, average='macro')))\n",
    "print('F1= {:.2f}'. format(f1_score(y_test, y_pred, average='macro')))\n",
    "print('Accuracy= {:.2f}'. format(accuracy_score(y_test, y_pred)))"
   ]
  },
  {
   "cell_type": "code",
   "execution_count": 54,
   "metadata": {},
   "outputs": [],
   "source": [
    "# Calculate AUC\n",
    "\n",
    "# your codes here...\n",
    "prob_NB = nb.predict_proba(X_test)\n",
    "prob_NB = prob_NB[:, 1]"
   ]
  },
  {
   "cell_type": "code",
   "execution_count": 55,
   "metadata": {},
   "outputs": [
    {
     "data": {
      "text/plain": [
       "array([0.36309648, 0.42913209, 0.23687223, 0.34617862, 0.43432537,\n",
       "       0.32045214, 0.24021782, 0.46622471, 0.20609152, 0.24438199,\n",
       "       0.47780927, 0.40804083, 0.3935757 , 0.58008937, 0.44851183,\n",
       "       0.29396744, 0.19532765, 0.40183609, 0.45946915, 0.42287153,\n",
       "       0.28093539, 0.5271019 , 0.32835864, 0.41965056, 0.48871233,\n",
       "       0.41368084, 0.19641141, 0.52620178, 0.50435085, 0.45781018,\n",
       "       0.42851325, 0.45442997, 0.33651259, 0.17542308, 0.334237  ,\n",
       "       0.32868521, 0.19730469, 0.37597198, 0.17251055, 0.12109517,\n",
       "       0.38608289, 0.15024991, 0.20783048, 0.49440008, 0.13141133,\n",
       "       0.37914344, 0.47311773, 0.3665634 , 0.2559108 , 0.20489738,\n",
       "       0.22817635, 0.30009416, 0.39763605, 0.16095188, 0.3895206 ,\n",
       "       0.45616708, 0.18234785, 0.19189126, 0.19323013, 0.39007004,\n",
       "       0.26885556, 0.17186629, 0.2366541 , 0.51930572, 0.56356018,\n",
       "       0.42905797, 0.4510559 , 0.30742244, 0.45650769, 0.54621279,\n",
       "       0.42624259, 0.55454247, 0.25693681, 0.63835957, 0.19382919,\n",
       "       0.19036213, 0.2983683 , 0.56892511, 0.37307402, 0.49936605,\n",
       "       0.45359195, 0.39433812, 0.45406966, 0.19481792, 0.42716464,\n",
       "       0.6409617 , 0.53965792, 0.40992849, 0.3182733 , 0.36496644,\n",
       "       0.14526678, 0.27318055, 0.20551244, 0.12781878, 0.4396854 ,\n",
       "       0.46975468, 0.38138246, 0.40963956, 0.26085041, 0.60106391,\n",
       "       0.43343538, 0.51679886, 0.26747903, 0.22165985, 0.3966923 ,\n",
       "       0.5817986 , 0.28761833, 0.18666987, 0.34467056, 0.38584541,\n",
       "       0.3718942 , 0.08743374, 0.49330894, 0.26007595, 0.34953364,\n",
       "       0.48105316, 0.31592657, 0.29075165, 0.43294386, 0.23540073,\n",
       "       0.57765107, 0.50161983, 0.23880356, 0.68590601, 0.26748592,\n",
       "       0.09757038, 0.45967763, 0.35058289, 0.51810208, 0.5592545 ,\n",
       "       0.17691023, 0.25901396, 0.42954354, 0.16365524, 0.64849432,\n",
       "       0.36907033, 0.07125514, 0.59153847, 0.24147382, 0.1195214 ,\n",
       "       0.47644226, 0.49718175, 0.39459609, 0.42233873, 0.19722257,\n",
       "       0.4523487 , 0.57930191, 0.20886293, 0.42942199, 0.36891404,\n",
       "       0.40699949, 0.14963666, 0.4625972 , 0.55358735, 0.49187684,\n",
       "       0.14740385, 0.56296581, 0.34983568, 0.11389033, 0.27272498,\n",
       "       0.28787361, 0.33774096, 0.40799296, 0.3678146 , 0.26504827,\n",
       "       0.30520092, 0.15038438, 0.3988166 , 0.41306632, 0.55940077,\n",
       "       0.50502007, 0.30880183, 0.3819348 , 0.26488492, 0.35718264,\n",
       "       0.16439732, 0.50376267])"
      ]
     },
     "execution_count": 55,
     "metadata": {},
     "output_type": "execute_result"
    }
   ],
   "source": [
    "prob_NB"
   ]
  },
  {
   "cell_type": "code",
   "execution_count": 56,
   "metadata": {},
   "outputs": [
    {
     "ename": "AxisError",
     "evalue": "axis 1 is out of bounds for array of dimension 1",
     "output_type": "error",
     "traceback": [
      "\u001b[1;31m---------------------------------------------------------------------------\u001b[0m",
      "\u001b[1;31mAxisError\u001b[0m                                 Traceback (most recent call last)",
      "\u001b[1;32m<ipython-input-56-fbad9a4c59bc>\u001b[0m in \u001b[0;36m<module>\u001b[1;34m\u001b[0m\n\u001b[0;32m      5\u001b[0m \u001b[1;31m#prob_NB = prob_NB[:, 1]\u001b[0m\u001b[1;33m\u001b[0m\u001b[1;33m\u001b[0m\u001b[1;33m\u001b[0m\u001b[0m\n\u001b[0;32m      6\u001b[0m \u001b[1;33m\u001b[0m\u001b[0m\n\u001b[1;32m----> 7\u001b[1;33m \u001b[0mauc_NB\u001b[0m\u001b[1;33m=\u001b[0m \u001b[0mroc_auc_score\u001b[0m\u001b[1;33m(\u001b[0m\u001b[0my_test\u001b[0m\u001b[1;33m,\u001b[0m \u001b[0mprob_NB\u001b[0m\u001b[1;33m,\u001b[0m \u001b[0mmulti_class\u001b[0m\u001b[1;33m=\u001b[0m\u001b[1;34m\"ovr\"\u001b[0m\u001b[1;33m,\u001b[0m \u001b[0maverage\u001b[0m\u001b[1;33m=\u001b[0m\u001b[1;34m\"macro\"\u001b[0m\u001b[1;33m)\u001b[0m\u001b[1;33m\u001b[0m\u001b[1;33m\u001b[0m\u001b[0m\n\u001b[0m\u001b[0;32m      8\u001b[0m \u001b[0mprint\u001b[0m\u001b[1;33m(\u001b[0m\u001b[1;34m'AUC: %.2f'\u001b[0m \u001b[1;33m%\u001b[0m \u001b[0mauc_NB\u001b[0m\u001b[1;33m)\u001b[0m\u001b[1;33m\u001b[0m\u001b[1;33m\u001b[0m\u001b[0m\n",
      "\u001b[1;32m~\\anaconda3\\lib\\site-packages\\sklearn\\utils\\validation.py\u001b[0m in \u001b[0;36minner_f\u001b[1;34m(*args, **kwargs)\u001b[0m\n\u001b[0;32m     71\u001b[0m                           FutureWarning)\n\u001b[0;32m     72\u001b[0m         \u001b[0mkwargs\u001b[0m\u001b[1;33m.\u001b[0m\u001b[0mupdate\u001b[0m\u001b[1;33m(\u001b[0m\u001b[1;33m{\u001b[0m\u001b[0mk\u001b[0m\u001b[1;33m:\u001b[0m \u001b[0marg\u001b[0m \u001b[1;32mfor\u001b[0m \u001b[0mk\u001b[0m\u001b[1;33m,\u001b[0m \u001b[0marg\u001b[0m \u001b[1;32min\u001b[0m \u001b[0mzip\u001b[0m\u001b[1;33m(\u001b[0m\u001b[0msig\u001b[0m\u001b[1;33m.\u001b[0m\u001b[0mparameters\u001b[0m\u001b[1;33m,\u001b[0m \u001b[0margs\u001b[0m\u001b[1;33m)\u001b[0m\u001b[1;33m}\u001b[0m\u001b[1;33m)\u001b[0m\u001b[1;33m\u001b[0m\u001b[1;33m\u001b[0m\u001b[0m\n\u001b[1;32m---> 73\u001b[1;33m         \u001b[1;32mreturn\u001b[0m \u001b[0mf\u001b[0m\u001b[1;33m(\u001b[0m\u001b[1;33m**\u001b[0m\u001b[0mkwargs\u001b[0m\u001b[1;33m)\u001b[0m\u001b[1;33m\u001b[0m\u001b[1;33m\u001b[0m\u001b[0m\n\u001b[0m\u001b[0;32m     74\u001b[0m     \u001b[1;32mreturn\u001b[0m \u001b[0minner_f\u001b[0m\u001b[1;33m\u001b[0m\u001b[1;33m\u001b[0m\u001b[0m\n\u001b[0;32m     75\u001b[0m \u001b[1;33m\u001b[0m\u001b[0m\n",
      "\u001b[1;32m~\\anaconda3\\lib\\site-packages\\sklearn\\metrics\\_ranking.py\u001b[0m in \u001b[0;36mroc_auc_score\u001b[1;34m(y_true, y_score, average, sample_weight, max_fpr, multi_class, labels)\u001b[0m\n\u001b[0;32m    383\u001b[0m         \u001b[1;32mif\u001b[0m \u001b[0mmulti_class\u001b[0m \u001b[1;33m==\u001b[0m \u001b[1;34m'raise'\u001b[0m\u001b[1;33m:\u001b[0m\u001b[1;33m\u001b[0m\u001b[1;33m\u001b[0m\u001b[0m\n\u001b[0;32m    384\u001b[0m             \u001b[1;32mraise\u001b[0m \u001b[0mValueError\u001b[0m\u001b[1;33m(\u001b[0m\u001b[1;34m\"multi_class must be in ('ovo', 'ovr')\"\u001b[0m\u001b[1;33m)\u001b[0m\u001b[1;33m\u001b[0m\u001b[1;33m\u001b[0m\u001b[0m\n\u001b[1;32m--> 385\u001b[1;33m         return _multiclass_roc_auc_score(y_true, y_score, labels,\n\u001b[0m\u001b[0;32m    386\u001b[0m                                          multi_class, average, sample_weight)\n\u001b[0;32m    387\u001b[0m     \u001b[1;32melif\u001b[0m \u001b[0my_type\u001b[0m \u001b[1;33m==\u001b[0m \u001b[1;34m\"binary\"\u001b[0m\u001b[1;33m:\u001b[0m\u001b[1;33m\u001b[0m\u001b[1;33m\u001b[0m\u001b[0m\n",
      "\u001b[1;32m~\\anaconda3\\lib\\site-packages\\sklearn\\metrics\\_ranking.py\u001b[0m in \u001b[0;36m_multiclass_roc_auc_score\u001b[1;34m(y_true, y_score, labels, multi_class, average, sample_weight)\u001b[0m\n\u001b[0;32m    441\u001b[0m     \"\"\"\n\u001b[0;32m    442\u001b[0m     \u001b[1;31m# validation of the input y_score\u001b[0m\u001b[1;33m\u001b[0m\u001b[1;33m\u001b[0m\u001b[1;33m\u001b[0m\u001b[0m\n\u001b[1;32m--> 443\u001b[1;33m     \u001b[1;32mif\u001b[0m \u001b[1;32mnot\u001b[0m \u001b[0mnp\u001b[0m\u001b[1;33m.\u001b[0m\u001b[0mallclose\u001b[0m\u001b[1;33m(\u001b[0m\u001b[1;36m1\u001b[0m\u001b[1;33m,\u001b[0m \u001b[0my_score\u001b[0m\u001b[1;33m.\u001b[0m\u001b[0msum\u001b[0m\u001b[1;33m(\u001b[0m\u001b[0maxis\u001b[0m\u001b[1;33m=\u001b[0m\u001b[1;36m1\u001b[0m\u001b[1;33m)\u001b[0m\u001b[1;33m)\u001b[0m\u001b[1;33m:\u001b[0m\u001b[1;33m\u001b[0m\u001b[1;33m\u001b[0m\u001b[0m\n\u001b[0m\u001b[0;32m    444\u001b[0m         raise ValueError(\n\u001b[0;32m    445\u001b[0m             \u001b[1;34m\"Target scores need to be probabilities for multiclass \"\u001b[0m\u001b[1;33m\u001b[0m\u001b[1;33m\u001b[0m\u001b[0m\n",
      "\u001b[1;32m~\\anaconda3\\lib\\site-packages\\numpy\\core\\_methods.py\u001b[0m in \u001b[0;36m_sum\u001b[1;34m(a, axis, dtype, out, keepdims, initial, where)\u001b[0m\n\u001b[0;32m     36\u001b[0m def _sum(a, axis=None, dtype=None, out=None, keepdims=False,\n\u001b[0;32m     37\u001b[0m          initial=_NoValue, where=True):\n\u001b[1;32m---> 38\u001b[1;33m     \u001b[1;32mreturn\u001b[0m \u001b[0mumr_sum\u001b[0m\u001b[1;33m(\u001b[0m\u001b[0ma\u001b[0m\u001b[1;33m,\u001b[0m \u001b[0maxis\u001b[0m\u001b[1;33m,\u001b[0m \u001b[0mdtype\u001b[0m\u001b[1;33m,\u001b[0m \u001b[0mout\u001b[0m\u001b[1;33m,\u001b[0m \u001b[0mkeepdims\u001b[0m\u001b[1;33m,\u001b[0m \u001b[0minitial\u001b[0m\u001b[1;33m,\u001b[0m \u001b[0mwhere\u001b[0m\u001b[1;33m)\u001b[0m\u001b[1;33m\u001b[0m\u001b[1;33m\u001b[0m\u001b[0m\n\u001b[0m\u001b[0;32m     39\u001b[0m \u001b[1;33m\u001b[0m\u001b[0m\n\u001b[0;32m     40\u001b[0m def _prod(a, axis=None, dtype=None, out=None, keepdims=False,\n",
      "\u001b[1;31mAxisError\u001b[0m: axis 1 is out of bounds for array of dimension 1"
     ]
    }
   ],
   "source": [
    "# Calculate AUC\n",
    "\n",
    "# your codes here...\n",
    "#prob_NB = nb.predict_proba(X_test)\n",
    "#prob_NB = prob_NB[:, 1]\n",
    "\n",
    "#auc_NB= roc_auc_score(y_test, prob_NB, multi_class=\"ovr\", average=\"macro\")\n",
    "#print('AUC: %.2f' % auc_NB)"
   ]
  },
  {
   "cell_type": "markdown",
   "metadata": {},
   "source": [
    "#### PurchasePlan2"
   ]
  },
  {
   "cell_type": "code",
   "execution_count": 57,
   "metadata": {},
   "outputs": [],
   "source": [
    "X = pd.get_dummies(X2, drop_first=True)"
   ]
  },
  {
   "cell_type": "code",
   "execution_count": 58,
   "metadata": {},
   "outputs": [
    {
     "name": "stdout",
     "output_type": "stream",
     "text": [
      "Accuracy on training set: 0.466\n",
      "Accuracy on test set: 0.421\n",
      " \n",
      "Mjority classifier Confusion Matrix\n",
      " [[18 14 17]\n",
      " [ 8  7 13]\n",
      " [ 8  6 23]]\n",
      "**********************\n",
      "Mjority TN=  18\n",
      "Mjority FP= 14\n",
      "Mjority FN=  8\n",
      "Mjority TP=  7\n",
      "**********************\n",
      "Precision= 0.41\n",
      "Recall= 0.41\n",
      "F1= 0.40\n",
      "Accuracy= 0.42\n"
     ]
    }
   ],
   "source": [
    "#### PurchasedPlan2\n",
    "X_train, X_test, y_train, y_test = train_test_split(X, y2, test_size=0.2, random_state=5)\n",
    "nb.fit(X_train, y_train)\n",
    "y_pred = nb.predict(X_test)\n",
    "\n",
    "# Model Accuracy\n",
    "\n",
    "print(\"Accuracy on training set: {:.3f}\".format(nb.score(X_train, y_train)))\n",
    "print(\"Accuracy on test set: {:.3f}\".format(nb.score(X_test, y_test)))\n",
    "\n",
    "print(\" \")\n",
    "\n",
    "confusion_majority=confusion_matrix(y_test, y_pred)\n",
    "\n",
    "print('Mjority classifier Confusion Matrix\\n', confusion_majority)\n",
    "\n",
    "print('**********************')\n",
    "print('Mjority TN= ', confusion_majority[0][0])\n",
    "print('Mjority FP=', confusion_majority[0][1])\n",
    "print('Mjority FN= ', confusion_majority[1][0])\n",
    "print('Mjority TP= ', confusion_majority[1][1])\n",
    "print('**********************')\n",
    "\n",
    "\n",
    "print('Precision= {:.2f}'. format(precision_score(y_test, y_pred, average='macro')))\n",
    "print('Recall= {:.2f}'. format(recall_score(y_test, y_pred, average='macro')))\n",
    "print('F1= {:.2f}'. format(f1_score(y_test, y_pred, average='macro')))\n",
    "print('Accuracy= {:.2f}'. format(accuracy_score(y_test, y_pred)))"
   ]
  },
  {
   "cell_type": "code",
   "execution_count": 59,
   "metadata": {},
   "outputs": [
    {
     "ename": "NameError",
     "evalue": "name 'multi_class_series' is not defined",
     "output_type": "error",
     "traceback": [
      "\u001b[1;31m---------------------------------------------------------------------------\u001b[0m",
      "\u001b[1;31mNameError\u001b[0m                                 Traceback (most recent call last)",
      "\u001b[1;32m<ipython-input-59-f0d0c088455c>\u001b[0m in \u001b[0;36m<module>\u001b[1;34m\u001b[0m\n\u001b[0;32m      1\u001b[0m \u001b[1;34m\"\"\"\"\"\"\u001b[0m\u001b[1;33m\u001b[0m\u001b[1;33m\u001b[0m\u001b[0m\n\u001b[1;32m----> 2\u001b[1;33m \u001b[0mroc\u001b[0m \u001b[1;33m=\u001b[0m \u001b[1;33m{\u001b[0m\u001b[0mlabel\u001b[0m\u001b[1;33m:\u001b[0m \u001b[1;33m[\u001b[0m\u001b[1;33m]\u001b[0m \u001b[1;32mfor\u001b[0m \u001b[0mlabel\u001b[0m \u001b[1;32min\u001b[0m \u001b[0mmulti_class_series\u001b[0m\u001b[1;33m.\u001b[0m\u001b[0munique\u001b[0m\u001b[1;33m(\u001b[0m\u001b[1;33m)\u001b[0m\u001b[1;33m}\u001b[0m\u001b[1;33m\u001b[0m\u001b[1;33m\u001b[0m\u001b[0m\n\u001b[0m\u001b[0;32m      3\u001b[0m \u001b[1;32mfor\u001b[0m \u001b[0mlabel\u001b[0m \u001b[1;32min\u001b[0m \u001b[0mmulti_class_series\u001b[0m\u001b[1;33m.\u001b[0m\u001b[0munique\u001b[0m\u001b[1;33m(\u001b[0m\u001b[1;33m)\u001b[0m\u001b[1;33m:\u001b[0m\u001b[1;33m\u001b[0m\u001b[1;33m\u001b[0m\u001b[0m\n\u001b[0;32m      4\u001b[0m     \u001b[0mselected_classifier\u001b[0m\u001b[1;33m.\u001b[0m\u001b[0mfit\u001b[0m\u001b[1;33m(\u001b[0m\u001b[0mtrain_set_dataframe\u001b[0m\u001b[1;33m,\u001b[0m \u001b[0mtrain_class\u001b[0m \u001b[1;33m==\u001b[0m \u001b[0mlabel\u001b[0m\u001b[1;33m)\u001b[0m\u001b[1;33m\u001b[0m\u001b[1;33m\u001b[0m\u001b[0m\n\u001b[0;32m      5\u001b[0m     \u001b[0mpredictions_proba\u001b[0m \u001b[1;33m=\u001b[0m \u001b[0mselected_classifier\u001b[0m\u001b[1;33m.\u001b[0m\u001b[0mpredict_proba\u001b[0m\u001b[1;33m(\u001b[0m\u001b[0mtest_set_dataframe\u001b[0m\u001b[1;33m)\u001b[0m\u001b[1;33m\u001b[0m\u001b[1;33m\u001b[0m\u001b[0m\n",
      "\u001b[1;31mNameError\u001b[0m: name 'multi_class_series' is not defined"
     ]
    }
   ],
   "source": [
    "\"\"\"\"\"\"\n",
    "roc = {label: [] for label in multi_class_series.unique()}\n",
    "for label in multi_class_series.unique():\n",
    "    selected_classifier.fit(train_set_dataframe, train_class == label)\n",
    "    predictions_proba = selected_classifier.predict_proba(test_set_dataframe)\n",
    "    roc[label] += roc_auc_score(test_class, predictions_proba[:,1])\n",
    "    \n",
    "\"\"\"\"\"\"\n"
   ]
  },
  {
   "cell_type": "code",
   "execution_count": null,
   "metadata": {},
   "outputs": [],
   "source": []
  },
  {
   "cell_type": "markdown",
   "metadata": {},
   "source": [
    "### Decison Tree Classifier"
   ]
  },
  {
   "cell_type": "code",
   "execution_count": 60,
   "metadata": {},
   "outputs": [],
   "source": [
    "clf  = DecisionTreeClassifier()"
   ]
  },
  {
   "cell_type": "markdown",
   "metadata": {},
   "source": [
    "#### PurchasePlan1"
   ]
  },
  {
   "cell_type": "code",
   "execution_count": 61,
   "metadata": {},
   "outputs": [
    {
     "name": "stdout",
     "output_type": "stream",
     "text": [
      "Accuracy on training set: 1.000\n",
      "Accuracy on test set: 0.535\n",
      " \n",
      "Mjority classifier Confusion Matrix\n",
      " [[58 36 28]\n",
      " [27 69 26]\n",
      " [30 17 62]]\n",
      "**********************\n",
      "Mjority TN=  58\n",
      "Mjority FP= 36\n",
      "Mjority FN=  27\n",
      "Mjority TP=  69\n",
      "**********************\n",
      "Precision= 0.53\n",
      "Recall= 0.54\n",
      "F1= 0.54\n",
      "Accuracy= 0.54\n"
     ]
    }
   ],
   "source": [
    "# PurchasedPlan1\n",
    "X = pd.get_dummies(X1, drop_first=True)\n",
    "X_train, X_test, y_train, y_test = train_test_split(X, y1,test_size=0.4, random_state=10)\n",
    "\n",
    "clf = clf.fit(X_train, y_train)\n",
    "y_pred = clf.predict(X_test)\n",
    "\n",
    "print(\"Accuracy on training set: {:.3f}\".format(clf.score(X_train, y_train)))\n",
    "print(\"Accuracy on test set: {:.3f}\".format(clf.score(X_test, y_test)))\n",
    "\n",
    "print(\" \")\n",
    "\n",
    "confusion_majority=confusion_matrix(y_test, y_pred)\n",
    "\n",
    "print('Mjority classifier Confusion Matrix\\n', confusion_majority)\n",
    "\n",
    "print('**********************')\n",
    "print('Mjority TN= ', confusion_majority[0][0])\n",
    "print('Mjority FP=', confusion_majority[0][1])\n",
    "print('Mjority FN= ', confusion_majority[1][0])\n",
    "print('Mjority TP= ', confusion_majority[1][1])\n",
    "print('**********************')\n",
    "\n",
    "\n",
    "print('Precision= {:.2f}'. format(precision_score(y_test, y_pred, average='macro')))\n",
    "print('Recall= {:.2f}'. format(recall_score(y_test, y_pred, average='macro')))\n",
    "print('F1= {:.2f}'. format(f1_score(y_test, y_pred, average='macro')))\n",
    "print('Accuracy= {:.2f}'. format(accuracy_score(y_test, y_pred)))"
   ]
  },
  {
   "cell_type": "markdown",
   "metadata": {},
   "source": [
    "#### PurchasePlan2"
   ]
  },
  {
   "cell_type": "code",
   "execution_count": 62,
   "metadata": {},
   "outputs": [
    {
     "name": "stdout",
     "output_type": "stream",
     "text": [
      "Accuracy on training set: 1.000\n",
      "Accuracy on test set: 0.374\n",
      " \n",
      "Mjority classifier Confusion Matrix\n",
      " [[24 32 23]\n",
      " [28 24 26]\n",
      " [13 20 37]]\n",
      "**********************\n",
      "Mjority TN=  24\n",
      "Mjority FP= 32\n",
      "Mjority FN=  28\n",
      "Mjority TP=  24\n",
      "**********************\n",
      "Precision= 0.37\n",
      "Recall= 0.38\n",
      "F1= 0.37\n",
      "Accuracy= 0.37\n"
     ]
    }
   ],
   "source": [
    "# PurchasedPlan2\n",
    "X = pd.get_dummies(X2, drop_first=True)\n",
    "X_train, X_test, y_train, y_test = train_test_split(X, y2,test_size=0.4, random_state=10)\n",
    "\n",
    "clf = clf.fit(X_train, y_train)\n",
    "y_pred = clf.predict(X_test)\n",
    "\n",
    "print(\"Accuracy on training set: {:.3f}\".format(clf.score(X_train, y_train)))\n",
    "print(\"Accuracy on test set: {:.3f}\".format(clf.score(X_test, y_test)))\n",
    "\n",
    "print(\" \")\n",
    "\n",
    "confusion_majority=confusion_matrix(y_test, y_pred)\n",
    "\n",
    "print('Mjority classifier Confusion Matrix\\n', confusion_majority)\n",
    "\n",
    "print('**********************')\n",
    "print('Mjority TN= ', confusion_majority[0][0])\n",
    "print('Mjority FP=', confusion_majority[0][1])\n",
    "print('Mjority FN= ', confusion_majority[1][0])\n",
    "print('Mjority TP= ', confusion_majority[1][1])\n",
    "print('**********************')\n",
    "\n",
    "\n",
    "print('Precision= {:.2f}'. format(precision_score(y_test, y_pred, average='macro')))\n",
    "print('Recall= {:.2f}'. format(recall_score(y_test, y_pred, average='macro')))\n",
    "print('F1= {:.2f}'. format(f1_score(y_test, y_pred, average='macro')))\n",
    "print('Accuracy= {:.2f}'. format(accuracy_score(y_test, y_pred)))"
   ]
  },
  {
   "cell_type": "markdown",
   "metadata": {},
   "source": [
    "### Random Forest"
   ]
  },
  {
   "cell_type": "code",
   "execution_count": 63,
   "metadata": {},
   "outputs": [],
   "source": [
    "rf = RandomForestClassifier(n_jobs=-1, class_weight=\"balanced\", max_depth=5, n_estimators=100, random_state=10)"
   ]
  },
  {
   "cell_type": "markdown",
   "metadata": {},
   "source": [
    "#### PurchasePlan1"
   ]
  },
  {
   "cell_type": "code",
   "execution_count": 64,
   "metadata": {},
   "outputs": [
    {
     "name": "stdout",
     "output_type": "stream",
     "text": [
      "Accuracy on training set: 0.817\n",
      "Accuracy on test set: 0.836\n",
      " \n",
      "Mjority classifier Confusion Matrix\n",
      " [[107   6   9]\n",
      " [ 11 103   8]\n",
      " [ 14  10  85]]\n",
      "**********************\n",
      "Mjority TN=  107\n",
      "Mjority FP= 6\n",
      "Mjority FN=  11\n",
      "Mjority TP=  103\n",
      "**********************\n",
      "Precision= 0.84\n",
      "Recall= 0.83\n",
      "F1= 0.83\n",
      "Accuracy= 0.84\n"
     ]
    }
   ],
   "source": [
    "X = pd.get_dummies(X1, drop_first=True)\n",
    "X_train, X_test, y_train, y_test = train_test_split(X, y1,test_size=0.4, random_state=10)\n",
    "\n",
    "rf.fit(X, y1)\n",
    "y_pred = rf.predict(X_test)\n",
    "\n",
    "print(\"Accuracy on training set: {:.3f}\".format(rf.score(X_train, y_train)))\n",
    "print(\"Accuracy on test set: {:.3f}\".format(rf.score(X_test, y_test)))\n",
    "\n",
    "print(\" \")\n",
    "\n",
    "confusion_majority=confusion_matrix(y_test, y_pred)\n",
    "\n",
    "print('Mjority classifier Confusion Matrix\\n', confusion_majority)\n",
    "\n",
    "print('**********************')\n",
    "print('Mjority TN= ', confusion_majority[0][0])\n",
    "print('Mjority FP=', confusion_majority[0][1])\n",
    "print('Mjority FN= ', confusion_majority[1][0])\n",
    "print('Mjority TP= ', confusion_majority[1][1])\n",
    "print('**********************')\n",
    "\n",
    "print('Precision= {:.2f}'. format(precision_score(y_test, y_pred, average='macro')))\n",
    "print('Recall= {:.2f}'. format(recall_score(y_test, y_pred, average='macro')))\n",
    "print('F1= {:.2f}'. format(f1_score(y_test, y_pred, average='macro')))\n",
    "print('Accuracy= {:.2f}'. format(accuracy_score(y_test, y_pred)))\n",
    "\n",
    "#fpr_DT, tpr_DT, thresholds_DT = roc_curve(y_test, prob_DT) "
   ]
  },
  {
   "cell_type": "code",
   "execution_count": 65,
   "metadata": {},
   "outputs": [],
   "source": [
    "# Calculate AUC\n",
    "#prob_DT = rf.predict_proba(X_test)\n",
    "#prob_DT = prob_DT[:,1]\n",
    "#auc_DT = roc_auc_score(y_test,prob_DT, multi_class='ovo', average='weighted')\n",
    "#fpr_rf, tpr_rf, thresholds_rf = roc_curve(y_test, prob_DT)\n",
    "#print(\"AUC: %.2f\" % auc_DT)"
   ]
  },
  {
   "cell_type": "markdown",
   "metadata": {},
   "source": [
    "#### PurchasePlan2"
   ]
  },
  {
   "cell_type": "code",
   "execution_count": 66,
   "metadata": {},
   "outputs": [
    {
     "name": "stdout",
     "output_type": "stream",
     "text": [
      "Accuracy on training set: 0.841\n",
      "Accuracy on test set: 0.850\n",
      " \n",
      "Mjority classifier Confusion Matrix\n",
      " [[63  7  9]\n",
      " [ 2 70  6]\n",
      " [ 4  6 60]]\n",
      "**********************\n",
      "Mjority TN=  63\n",
      "Mjority FP= 7\n",
      "Mjority FN=  2\n",
      "Mjority TP=  70\n",
      "**********************\n",
      "Precision= 0.85\n",
      "Recall= 0.85\n",
      "F1= 0.85\n",
      "Accuracy= 0.85\n"
     ]
    }
   ],
   "source": [
    "X = pd.get_dummies(X2, drop_first=True)\n",
    "X_train, X_test, y_train, y_test = train_test_split(X, y2,test_size=0.4, random_state=10)\n",
    "\n",
    "rf.fit(X, y2)\n",
    "y_pred = rf.predict(X_test)\n",
    "print(\"Accuracy on training set: {:.3f}\".format(rf.score(X_train, y_train)))\n",
    "print(\"Accuracy on test set: {:.3f}\".format(rf.score(X_test, y_test)))\n",
    "\n",
    "print(\" \")\n",
    "\n",
    "confusion_majority=confusion_matrix(y_test, y_pred)\n",
    "\n",
    "print('Mjority classifier Confusion Matrix\\n', confusion_majority)\n",
    "\n",
    "print('**********************')\n",
    "print('Mjority TN= ', confusion_majority[0][0])\n",
    "print('Mjority FP=', confusion_majority[0][1])\n",
    "print('Mjority FN= ', confusion_majority[1][0])\n",
    "print('Mjority TP= ', confusion_majority[1][1])\n",
    "print('**********************')\n",
    "\n",
    "print('Precision= {:.2f}'. format(precision_score(y_test, y_pred, average='macro')))\n",
    "print('Recall= {:.2f}'. format(recall_score(y_test, y_pred, average='macro')))\n",
    "print('F1= {:.2f}'. format(f1_score(y_test, y_pred, average='macro')))\n",
    "print('Accuracy= {:.2f}'. format(accuracy_score(y_test, y_pred)))\n",
    "\n",
    "#fpr_DT, tpr_DT, thresholds_DT = roc_curve(y_test, prob_DT) "
   ]
  },
  {
   "cell_type": "code",
   "execution_count": 67,
   "metadata": {},
   "outputs": [],
   "source": [
    "# Calculate AUC\n",
    "#prob_DT = rf.predict_proba(X_test)\n",
    "#prob_DT = prob_DT[:,1]\n",
    "#auc_DT = roc_auc_score(y_test,prob_DT)\n",
    "#fpr_rf, tpr_rf, thresholds_rf = roc_curve(y_test, prob_DT)\n",
    "#print(\"AUC: %.2f\" % auc_DT)"
   ]
  },
  {
   "cell_type": "markdown",
   "metadata": {},
   "source": [
    "### SVM"
   ]
  },
  {
   "cell_type": "code",
   "execution_count": 68,
   "metadata": {},
   "outputs": [],
   "source": [
    "from sklearn.svm import SVC\n",
    "model = SVC(kernel=\"linear\",gamma=\"auto\",probability=True, cache_size=7000)"
   ]
  },
  {
   "cell_type": "markdown",
   "metadata": {},
   "source": [
    "#### PurchasePlan1"
   ]
  },
  {
   "cell_type": "code",
   "execution_count": 69,
   "metadata": {},
   "outputs": [],
   "source": [
    "X = pd.get_dummies(X2, drop_first=True)\n",
    "X_train, X_test, y_train, y_test = train_test_split(X, y2,test_size=0.4, random_state=10)"
   ]
  },
  {
   "cell_type": "code",
   "execution_count": 70,
   "metadata": {},
   "outputs": [],
   "source": [
    "scaling = MinMaxScaler(feature_range=(-1,1)).fit(X_train)\n",
    "X_train = scaling.transform(X_train)\n",
    "X_test = scaling.transform(X_test)"
   ]
  },
  {
   "cell_type": "code",
   "execution_count": 71,
   "metadata": {},
   "outputs": [
    {
     "name": "stdout",
     "output_type": "stream",
     "text": [
      "Accuracy on training set: 0.324\n",
      "Accuracy on test set: 0.348\n"
     ]
    }
   ],
   "source": [
    "model.fit(X_train, y_train)\n",
    "y_pred = model.predict(X_test)\n",
    "print(\"Accuracy on training set: {:.3f}\".format(clf.score(X_train, y_train)))\n",
    "print(\"Accuracy on test set: {:.3f}\".format(clf.score(X_test, y_test)))"
   ]
  },
  {
   "cell_type": "code",
   "execution_count": 72,
   "metadata": {},
   "outputs": [
    {
     "name": "stdout",
     "output_type": "stream",
     "text": [
      "Mjority classifier Confusion Matrix\n",
      " [[27 28 24]\n",
      " [27 28 23]\n",
      " [18 16 36]]\n",
      "**********************\n",
      "Mjority TN =  27\n",
      "Mjority FP =  28\n",
      "Mjority FN =  27\n",
      "Mjority TP =  28\n",
      "**********************\n",
      "Precision= 0.40\n",
      "Recall= 0.41\n",
      "F1= 0.40\n",
      "Accuracy= 0.40\n"
     ]
    }
   ],
   "source": [
    "confusion_majority=confusion_matrix(y_test, y_pred)\n",
    "\n",
    "print('Mjority classifier Confusion Matrix\\n', confusion_majority)\n",
    "\n",
    "print('**********************')\n",
    "print('Mjority TN = ', confusion_majority[0][0])\n",
    "print('Mjority FP = ', confusion_majority[0][1])\n",
    "print('Mjority FN = ', confusion_majority[1][0])\n",
    "print('Mjority TP = ', confusion_majority[1][1])\n",
    "print('**********************')\n",
    "\n",
    "print('Precision= {:.2f}'. format(precision_score(y_test, y_pred, average='macro')))\n",
    "print('Recall= {:.2f}'. format(recall_score(y_test, y_pred, average='macro')))\n",
    "print('F1= {:.2f}'. format(f1_score(y_test, y_pred, average='macro')))\n",
    "print('Accuracy= {:.2f}'. format(accuracy_score(y_test, y_pred)))\n",
    "\n",
    "#fpr_model, tpr_model, thresholds_model = roc_curve(y_test, prob_model) "
   ]
  },
  {
   "cell_type": "markdown",
   "metadata": {},
   "source": [
    "#### PurchasePlan2"
   ]
  },
  {
   "cell_type": "code",
   "execution_count": 73,
   "metadata": {},
   "outputs": [
    {
     "name": "stdout",
     "output_type": "stream",
     "text": [
      "Accuracy on training set: 0.325\n",
      "Accuracy on test set: 0.346\n"
     ]
    }
   ],
   "source": [
    "X = pd.get_dummies(X1, drop_first=True)\n",
    "X_train, X_test, y_train, y_test = train_test_split(X, y1,test_size=0.4, random_state=10)\n",
    "\n",
    "scaling = MinMaxScaler(feature_range=(-1,1)).fit(X_train)\n",
    "X_train = scaling.transform(X_train)\n",
    "X_test = scaling.transform(X_test)\n",
    "\n",
    "model.fit(X_train, y_train)\n",
    "y_pred = model.predict(X_test)\n",
    "print(\"Accuracy on training set: {:.3f}\".format(clf.score(X_train, y_train)))\n",
    "print(\"Accuracy on test set: {:.3f}\".format(clf.score(X_test, y_test)))"
   ]
  },
  {
   "cell_type": "code",
   "execution_count": 74,
   "metadata": {},
   "outputs": [
    {
     "name": "stdout",
     "output_type": "stream",
     "text": [
      "Mjority classifier Confusion Matrix\n",
      " [[65 24 33]\n",
      " [28 51 43]\n",
      " [34 15 60]]\n",
      "**********************\n",
      "Mjority TN =  65\n",
      "Mjority FP =  24\n",
      "Mjority FN =  28\n",
      "Mjority TP =  51\n",
      "**********************\n",
      "Precision= 0.51\n",
      "Recall= 0.50\n",
      "F1= 0.50\n",
      "Accuracy= 0.50\n"
     ]
    }
   ],
   "source": [
    "confusion_majority=confusion_matrix(y_test, y_pred)\n",
    "\n",
    "print('Mjority classifier Confusion Matrix\\n', confusion_majority)\n",
    "\n",
    "print('**********************')\n",
    "print('Mjority TN = ', confusion_majority[0][0])\n",
    "print('Mjority FP = ', confusion_majority[0][1])\n",
    "print('Mjority FN = ', confusion_majority[1][0])\n",
    "print('Mjority TP = ', confusion_majority[1][1])\n",
    "print('**********************')\n",
    "\n",
    "print('Precision= {:.2f}'. format(precision_score(y_test, y_pred, average='macro')))\n",
    "print('Recall= {:.2f}'. format(recall_score(y_test, y_pred, average='macro')))\n",
    "print('F1= {:.2f}'. format(f1_score(y_test, y_pred, average='macro')))\n",
    "print('Accuracy= {:.2f}'. format(accuracy_score(y_test, y_pred)))\n",
    "\n",
    "#fpr_model, tpr_model, thresholds_model = roc_curve(y_test, prob_model) "
   ]
  },
  {
   "cell_type": "markdown",
   "metadata": {},
   "source": [
    "### Compare the Classifiers"
   ]
  },
  {
   "cell_type": "code",
   "execution_count": 75,
   "metadata": {},
   "outputs": [
    {
     "data": {
      "text/plain": [
       "\"\\nplt.plot(fpr_NB, tpr_NB, color='orange', label='NB') \\nplt.plot(fpr_DT, tpr_DT, color='blue', label='DF')  \\n#plt.plot(fpr_model, tpr_model, color='red', label='SVM')  \\n\\nplt.plot([0, 1], [0, 1], color='green', linestyle='--')\\nplt.xlabel('False Positive Rate')\\nplt.ylabel('True Positive Rate')\\nplt.title('Receiver Operating Characteristic (ROC) Curve')\\nplt.legend() \\n\""
      ]
     },
     "execution_count": 75,
     "metadata": {},
     "output_type": "execute_result"
    }
   ],
   "source": [
    "\"\"\"\n",
    "plt.plot(fpr_NB, tpr_NB, color='orange', label='NB') \n",
    "plt.plot(fpr_DT, tpr_DT, color='blue', label='DF')  \n",
    "#plt.plot(fpr_model, tpr_model, color='red', label='SVM')  \n",
    "\n",
    "plt.plot([0, 1], [0, 1], color='green', linestyle='--')\n",
    "plt.xlabel('False Positive Rate')\n",
    "plt.ylabel('True Positive Rate')\n",
    "plt.title('Receiver Operating Characteristic (ROC) Curve')\n",
    "plt.legend() \n",
    "\"\"\""
   ]
  },
  {
   "cell_type": "markdown",
   "metadata": {},
   "source": [
    "# Association Rule Mining"
   ]
  },
  {
   "cell_type": "code",
   "execution_count": 76,
   "metadata": {},
   "outputs": [],
   "source": [
    "from apyori import apriori"
   ]
  },
  {
   "cell_type": "code",
   "execution_count": 77,
   "metadata": {},
   "outputs": [],
   "source": [
    "df4 = df2.copy()"
   ]
  },
  {
   "cell_type": "code",
   "execution_count": 78,
   "metadata": {},
   "outputs": [
    {
     "data": {
      "text/html": [
       "<div>\n",
       "<style scoped>\n",
       "    .dataframe tbody tr th:only-of-type {\n",
       "        vertical-align: middle;\n",
       "    }\n",
       "\n",
       "    .dataframe tbody tr th {\n",
       "        vertical-align: top;\n",
       "    }\n",
       "\n",
       "    .dataframe thead th {\n",
       "        text-align: right;\n",
       "    }\n",
       "</style>\n",
       "<table border=\"1\" class=\"dataframe\">\n",
       "  <thead>\n",
       "    <tr style=\"text-align: right;\">\n",
       "      <th></th>\n",
       "      <th>Age</th>\n",
       "      <th>Gender</th>\n",
       "      <th>MaritalStatus</th>\n",
       "      <th>SmokerStatus</th>\n",
       "      <th>LifeStyle</th>\n",
       "      <th>LanguageSpoken</th>\n",
       "      <th>HighestEducation</th>\n",
       "      <th>Race</th>\n",
       "      <th>Nationality</th>\n",
       "      <th>MalaysiaPR</th>\n",
       "      <th>...</th>\n",
       "      <th>ResidentialType</th>\n",
       "      <th>NoOfDependent</th>\n",
       "      <th>FamilyExpenses(month)</th>\n",
       "      <th>AnnualSalary</th>\n",
       "      <th>Customer_Needs_1</th>\n",
       "      <th>Customer_Needs_2</th>\n",
       "      <th>PurchasedPlan1</th>\n",
       "      <th>Transport</th>\n",
       "      <th>PurchasedPlan2</th>\n",
       "      <th>MedicalComplication</th>\n",
       "    </tr>\n",
       "  </thead>\n",
       "  <tbody>\n",
       "    <tr>\n",
       "      <th>0</th>\n",
       "      <td>35.0</td>\n",
       "      <td>female</td>\n",
       "      <td>single</td>\n",
       "      <td>Unknown</td>\n",
       "      <td>home</td>\n",
       "      <td>english</td>\n",
       "      <td>Bachelor</td>\n",
       "      <td>malay</td>\n",
       "      <td>Unspecified</td>\n",
       "      <td>yes</td>\n",
       "      <td>...</td>\n",
       "      <td>terrace</td>\n",
       "      <td>2.000000</td>\n",
       "      <td>10242.000000</td>\n",
       "      <td>118087.540698</td>\n",
       "      <td>PersonalSaving</td>\n",
       "      <td>KidMedical</td>\n",
       "      <td>SchoolAgain</td>\n",
       "      <td>driving</td>\n",
       "      <td>NoMoneyDown</td>\n",
       "      <td>no</td>\n",
       "    </tr>\n",
       "    <tr>\n",
       "      <th>1</th>\n",
       "      <td>25.0</td>\n",
       "      <td>male</td>\n",
       "      <td>Unspecified Status</td>\n",
       "      <td>Unknown</td>\n",
       "      <td>outdoor</td>\n",
       "      <td>malay</td>\n",
       "      <td>Diploma</td>\n",
       "      <td>chinese</td>\n",
       "      <td>Malaysian</td>\n",
       "      <td>no</td>\n",
       "      <td>...</td>\n",
       "      <td>terrace</td>\n",
       "      <td>2.000000</td>\n",
       "      <td>6335.403694</td>\n",
       "      <td>73926.000000</td>\n",
       "      <td>PersonalRetirement</td>\n",
       "      <td>KidMedical</td>\n",
       "      <td>SchoolAgain</td>\n",
       "      <td>driving</td>\n",
       "      <td>XEdu</td>\n",
       "      <td>yes</td>\n",
       "    </tr>\n",
       "    <tr>\n",
       "      <th>2</th>\n",
       "      <td>27.0</td>\n",
       "      <td>male</td>\n",
       "      <td>Unspecified Status</td>\n",
       "      <td>frequent</td>\n",
       "      <td>pub_goer</td>\n",
       "      <td>english</td>\n",
       "      <td>Bachelor</td>\n",
       "      <td>others</td>\n",
       "      <td>Unspecified</td>\n",
       "      <td>no</td>\n",
       "      <td>...</td>\n",
       "      <td>condominium</td>\n",
       "      <td>2.000000</td>\n",
       "      <td>4316.000000</td>\n",
       "      <td>140734.000000</td>\n",
       "      <td>PersonalMedical</td>\n",
       "      <td>KidMedical</td>\n",
       "      <td>SchoolAgain</td>\n",
       "      <td>driving</td>\n",
       "      <td>KidsFlyUp</td>\n",
       "      <td>yes</td>\n",
       "    </tr>\n",
       "    <tr>\n",
       "      <th>3</th>\n",
       "      <td>33.0</td>\n",
       "      <td>female</td>\n",
       "      <td>Unspecified Status</td>\n",
       "      <td>once_in_a_while</td>\n",
       "      <td>pub_goer</td>\n",
       "      <td>english</td>\n",
       "      <td>Bachelor</td>\n",
       "      <td>malay</td>\n",
       "      <td>Malaysian</td>\n",
       "      <td>yes</td>\n",
       "      <td>...</td>\n",
       "      <td>terrace</td>\n",
       "      <td>3.337438</td>\n",
       "      <td>4845.000000</td>\n",
       "      <td>118087.540698</td>\n",
       "      <td>PersonalSaving</td>\n",
       "      <td>KidSaving</td>\n",
       "      <td>SchoolAgain</td>\n",
       "      <td>driving</td>\n",
       "      <td>NoMoneyDown</td>\n",
       "      <td>no</td>\n",
       "    </tr>\n",
       "    <tr>\n",
       "      <th>4</th>\n",
       "      <td>28.0</td>\n",
       "      <td>female</td>\n",
       "      <td>Unspecified Status</td>\n",
       "      <td>once_in_a_while</td>\n",
       "      <td>home</td>\n",
       "      <td>english</td>\n",
       "      <td>Bachelor</td>\n",
       "      <td>chinese</td>\n",
       "      <td>Malaysian</td>\n",
       "      <td>yes</td>\n",
       "      <td>...</td>\n",
       "      <td>condominium</td>\n",
       "      <td>2.000000</td>\n",
       "      <td>9883.000000</td>\n",
       "      <td>98833.000000</td>\n",
       "      <td>PersonalRetirement</td>\n",
       "      <td>KidEducation</td>\n",
       "      <td>COVIDFree</td>\n",
       "      <td>driving</td>\n",
       "      <td>KidsFlyUp</td>\n",
       "      <td>yes</td>\n",
       "    </tr>\n",
       "  </tbody>\n",
       "</table>\n",
       "<p>5 rows × 24 columns</p>\n",
       "</div>"
      ],
      "text/plain": [
       "    Age  Gender       MaritalStatus     SmokerStatus LifeStyle LanguageSpoken  \\\n",
       "0  35.0  female              single          Unknown      home        english   \n",
       "1  25.0    male  Unspecified Status          Unknown   outdoor          malay   \n",
       "2  27.0    male  Unspecified Status         frequent  pub_goer        english   \n",
       "3  33.0  female  Unspecified Status  once_in_a_while  pub_goer        english   \n",
       "4  28.0  female  Unspecified Status  once_in_a_while      home        english   \n",
       "\n",
       "  HighestEducation     Race  Nationality MalaysiaPR  ... ResidentialType  \\\n",
       "0         Bachelor    malay  Unspecified        yes  ...         terrace   \n",
       "1          Diploma  chinese    Malaysian         no  ...         terrace   \n",
       "2         Bachelor   others  Unspecified         no  ...     condominium   \n",
       "3         Bachelor    malay    Malaysian        yes  ...         terrace   \n",
       "4         Bachelor  chinese    Malaysian        yes  ...     condominium   \n",
       "\n",
       "  NoOfDependent FamilyExpenses(month)   AnnualSalary    Customer_Needs_1  \\\n",
       "0      2.000000          10242.000000  118087.540698      PersonalSaving   \n",
       "1      2.000000           6335.403694   73926.000000  PersonalRetirement   \n",
       "2      2.000000           4316.000000  140734.000000     PersonalMedical   \n",
       "3      3.337438           4845.000000  118087.540698      PersonalSaving   \n",
       "4      2.000000           9883.000000   98833.000000  PersonalRetirement   \n",
       "\n",
       "   Customer_Needs_2  PurchasedPlan1  Transport PurchasedPlan2  \\\n",
       "0        KidMedical     SchoolAgain    driving    NoMoneyDown   \n",
       "1        KidMedical     SchoolAgain    driving           XEdu   \n",
       "2        KidMedical     SchoolAgain    driving      KidsFlyUp   \n",
       "3         KidSaving     SchoolAgain    driving    NoMoneyDown   \n",
       "4      KidEducation       COVIDFree    driving      KidsFlyUp   \n",
       "\n",
       "  MedicalComplication  \n",
       "0                  no  \n",
       "1                 yes  \n",
       "2                 yes  \n",
       "3                  no  \n",
       "4                 yes  \n",
       "\n",
       "[5 rows x 24 columns]"
      ]
     },
     "execution_count": 78,
     "metadata": {},
     "output_type": "execute_result"
    }
   ],
   "source": [
    "df2.head()"
   ]
  },
  {
   "cell_type": "code",
   "execution_count": 79,
   "metadata": {},
   "outputs": [],
   "source": [
    "df4 = df2[[\"PurchasedPlan1\", \"PurchasedPlan2\"]]"
   ]
  },
  {
   "cell_type": "code",
   "execution_count": 80,
   "metadata": {},
   "outputs": [],
   "source": [
    "records = []\n",
    "for i in range(0, 500):\n",
    "    records.append([str(df4.values[i,j]) for j in range(0, 2)])"
   ]
  },
  {
   "cell_type": "code",
   "execution_count": 81,
   "metadata": {},
   "outputs": [
    {
     "data": {
      "text/plain": [
       "[['SchoolAgain', 'NoMoneyDown'],\n",
       " ['SchoolAgain', 'XEdu'],\n",
       " ['SchoolAgain', 'KidsFlyUp'],\n",
       " ['SchoolAgain', 'NoMoneyDown'],\n",
       " ['COVIDFree', 'KidsFlyUp'],\n",
       " ['HomeSafe', 'KidsFlyUp'],\n",
       " ['HomeSafe', 'NoMoneyDown'],\n",
       " ['SchoolAgain', 'XEdu'],\n",
       " ['COVIDFree', 'NoMoneyDown'],\n",
       " ['SchoolAgain', 'KidsFlyUp'],\n",
       " ['SchoolAgain', 'NoMoneyDown'],\n",
       " ['HomeSafe', 'KidsFlyUp'],\n",
       " ['SchoolAgain', 'XEdu'],\n",
       " ['SchoolAgain', 'KidsFlyUp'],\n",
       " ['SchoolAgain', 'XEdu'],\n",
       " ['SchoolAgain', 'KidsFlyUp'],\n",
       " ['HomeSafe', 'KidsFlyUp'],\n",
       " ['SchoolAgain', 'XEdu'],\n",
       " ['SchoolAgain', 'XEdu'],\n",
       " ['HomeSafe', 'XEdu'],\n",
       " ['SchoolAgain', 'KidsFlyUp'],\n",
       " ['SchoolAgain', 'NoMoneyDown'],\n",
       " ['SchoolAgain', 'NoMoneyDown'],\n",
       " ['SchoolAgain', 'KidsFlyUp'],\n",
       " ['SchoolAgain', 'NoMoneyDown'],\n",
       " ['SchoolAgain', 'KidsFlyUp'],\n",
       " ['SchoolAgain', 'NoMoneyDown'],\n",
       " ['HomeSafe', 'XEdu'],\n",
       " ['SchoolAgain', 'KidsFlyUp'],\n",
       " ['COVIDFree', 'NoMoneyDown'],\n",
       " ['COVIDFree', 'KidsFlyUp'],\n",
       " ['SchoolAgain', 'XEdu'],\n",
       " ['HomeSafe', 'KidsFlyUp'],\n",
       " ['SchoolAgain', 'KidsFlyUp'],\n",
       " ['SchoolAgain', 'KidsFlyUp'],\n",
       " ['SchoolAgain', 'XEdu'],\n",
       " ['SchoolAgain', 'XEdu'],\n",
       " ['HomeSafe', 'XEdu'],\n",
       " ['SchoolAgain', 'XEdu'],\n",
       " ['SchoolAgain', 'KidsFlyUp'],\n",
       " ['COVIDFree', 'XEdu'],\n",
       " ['HomeSafe', 'NoMoneyDown'],\n",
       " ['SchoolAgain', 'XEdu'],\n",
       " ['HomeSafe', 'XEdu'],\n",
       " ['SchoolAgain', 'XEdu'],\n",
       " ['SchoolAgain', 'KidsFlyUp'],\n",
       " ['SchoolAgain', 'KidsFlyUp'],\n",
       " ['COVIDFree', 'KidsFlyUp'],\n",
       " ['SchoolAgain', 'XEdu'],\n",
       " ['COVIDFree', 'KidsFlyUp'],\n",
       " ['SchoolAgain', 'XEdu'],\n",
       " ['COVIDFree', 'NoMoneyDown'],\n",
       " ['COVIDFree', 'KidsFlyUp'],\n",
       " ['COVIDFree', 'XEdu'],\n",
       " ['SchoolAgain', 'KidsFlyUp'],\n",
       " ['COVIDFree', 'KidsFlyUp'],\n",
       " ['SchoolAgain', 'XEdu'],\n",
       " ['SchoolAgain', 'KidsFlyUp'],\n",
       " ['SchoolAgain', 'NoMoneyDown'],\n",
       " ['SchoolAgain', 'XEdu'],\n",
       " ['SchoolAgain', 'XEdu'],\n",
       " ['COVIDFree', 'NoMoneyDown'],\n",
       " ['SchoolAgain', 'XEdu'],\n",
       " ['SchoolAgain', 'XEdu'],\n",
       " ['HomeSafe', 'KidsFlyUp'],\n",
       " ['SchoolAgain', 'NoMoneyDown'],\n",
       " ['COVIDFree', 'KidsFlyUp'],\n",
       " ['COVIDFree', 'KidsFlyUp'],\n",
       " ['COVIDFree', 'XEdu'],\n",
       " ['HomeSafe', 'XEdu'],\n",
       " ['COVIDFree', 'KidsFlyUp'],\n",
       " ['SchoolAgain', 'XEdu'],\n",
       " ['SchoolAgain', 'NoMoneyDown'],\n",
       " ['SchoolAgain', 'NoMoneyDown'],\n",
       " ['SchoolAgain', 'NoMoneyDown'],\n",
       " ['HomeSafe', 'NoMoneyDown'],\n",
       " ['COVIDFree', 'XEdu'],\n",
       " ['COVIDFree', 'NoMoneyDown'],\n",
       " ['SchoolAgain', 'NoMoneyDown'],\n",
       " ['SchoolAgain', 'NoMoneyDown'],\n",
       " ['SchoolAgain', 'NoMoneyDown'],\n",
       " ['SchoolAgain', 'KidsFlyUp'],\n",
       " ['HomeSafe', 'KidsFlyUp'],\n",
       " ['HomeSafe', 'NoMoneyDown'],\n",
       " ['SchoolAgain', 'NoMoneyDown'],\n",
       " ['COVIDFree', 'KidsFlyUp'],\n",
       " ['SchoolAgain', 'NoMoneyDown'],\n",
       " ['HomeSafe', 'NoMoneyDown'],\n",
       " ['SchoolAgain', 'KidsFlyUp'],\n",
       " ['HomeSafe', 'KidsFlyUp'],\n",
       " ['SchoolAgain', 'XEdu'],\n",
       " ['SchoolAgain', 'NoMoneyDown'],\n",
       " ['SchoolAgain', 'NoMoneyDown'],\n",
       " ['SchoolAgain', 'NoMoneyDown'],\n",
       " ['SchoolAgain', 'KidsFlyUp'],\n",
       " ['HomeSafe', 'XEdu'],\n",
       " ['SchoolAgain', 'NoMoneyDown'],\n",
       " ['SchoolAgain', 'XEdu'],\n",
       " ['HomeSafe', 'XEdu'],\n",
       " ['SchoolAgain', 'NoMoneyDown'],\n",
       " ['COVIDFree', 'XEdu'],\n",
       " ['SchoolAgain', 'XEdu'],\n",
       " ['SchoolAgain', 'XEdu'],\n",
       " ['SchoolAgain', 'KidsFlyUp'],\n",
       " ['HomeSafe', 'NoMoneyDown'],\n",
       " ['SchoolAgain', 'KidsFlyUp'],\n",
       " ['COVIDFree', 'KidsFlyUp'],\n",
       " ['SchoolAgain', 'XEdu'],\n",
       " ['HomeSafe', 'KidsFlyUp'],\n",
       " ['COVIDFree', 'KidsFlyUp'],\n",
       " ['HomeSafe', 'KidsFlyUp'],\n",
       " ['HomeSafe', 'NoMoneyDown'],\n",
       " ['COVIDFree', 'XEdu'],\n",
       " ['COVIDFree', 'KidsFlyUp'],\n",
       " ['SchoolAgain', 'XEdu'],\n",
       " ['COVIDFree', 'KidsFlyUp'],\n",
       " ['SchoolAgain', 'NoMoneyDown'],\n",
       " ['COVIDFree', 'XEdu'],\n",
       " ['COVIDFree', 'XEdu'],\n",
       " ['SchoolAgain', 'NoMoneyDown'],\n",
       " ['SchoolAgain', 'NoMoneyDown'],\n",
       " ['SchoolAgain', 'XEdu'],\n",
       " ['SchoolAgain', 'XEdu'],\n",
       " ['COVIDFree', 'KidsFlyUp'],\n",
       " ['SchoolAgain', 'NoMoneyDown'],\n",
       " ['SchoolAgain', 'XEdu'],\n",
       " ['SchoolAgain', 'XEdu'],\n",
       " ['SchoolAgain', 'XEdu'],\n",
       " ['SchoolAgain', 'XEdu'],\n",
       " ['SchoolAgain', 'KidsFlyUp'],\n",
       " ['SchoolAgain', 'XEdu'],\n",
       " ['SchoolAgain', 'XEdu'],\n",
       " ['SchoolAgain', 'XEdu'],\n",
       " ['HomeSafe', 'XEdu'],\n",
       " ['SchoolAgain', 'XEdu'],\n",
       " ['SchoolAgain', 'XEdu'],\n",
       " ['SchoolAgain', 'NoMoneyDown'],\n",
       " ['COVIDFree', 'KidsFlyUp'],\n",
       " ['SchoolAgain', 'XEdu'],\n",
       " ['HomeSafe', 'KidsFlyUp'],\n",
       " ['COVIDFree', 'NoMoneyDown'],\n",
       " ['SchoolAgain', 'KidsFlyUp'],\n",
       " ['SchoolAgain', 'XEdu'],\n",
       " ['SchoolAgain', 'NoMoneyDown'],\n",
       " ['SchoolAgain', 'KidsFlyUp'],\n",
       " ['SchoolAgain', 'XEdu'],\n",
       " ['HomeSafe', 'NoMoneyDown'],\n",
       " ['COVIDFree', 'NoMoneyDown'],\n",
       " ['SchoolAgain', 'KidsFlyUp'],\n",
       " ['SchoolAgain', 'NoMoneyDown'],\n",
       " ['SchoolAgain', 'KidsFlyUp'],\n",
       " ['SchoolAgain', 'KidsFlyUp'],\n",
       " ['SchoolAgain', 'XEdu'],\n",
       " ['SchoolAgain', 'XEdu'],\n",
       " ['COVIDFree', 'NoMoneyDown'],\n",
       " ['COVIDFree', 'NoMoneyDown'],\n",
       " ['SchoolAgain', 'XEdu'],\n",
       " ['COVIDFree', 'KidsFlyUp'],\n",
       " ['COVIDFree', 'XEdu'],\n",
       " ['SchoolAgain', 'XEdu'],\n",
       " ['HomeSafe', 'NoMoneyDown'],\n",
       " ['SchoolAgain', 'NoMoneyDown'],\n",
       " ['SchoolAgain', 'NoMoneyDown'],\n",
       " ['SchoolAgain', 'NoMoneyDown'],\n",
       " ['SchoolAgain', 'XEdu'],\n",
       " ['COVIDFree', 'XEdu'],\n",
       " ['SchoolAgain', 'XEdu'],\n",
       " ['COVIDFree', 'KidsFlyUp'],\n",
       " ['COVIDFree', 'XEdu'],\n",
       " ['SchoolAgain', 'XEdu'],\n",
       " ['COVIDFree', 'XEdu'],\n",
       " ['COVIDFree', 'NoMoneyDown'],\n",
       " ['SchoolAgain', 'XEdu'],\n",
       " ['COVIDFree', 'KidsFlyUp'],\n",
       " ['SchoolAgain', 'NoMoneyDown'],\n",
       " ['HomeSafe', 'XEdu'],\n",
       " ['SchoolAgain', 'KidsFlyUp'],\n",
       " ['COVIDFree', 'NoMoneyDown'],\n",
       " ['COVIDFree', 'XEdu'],\n",
       " ['SchoolAgain', 'XEdu'],\n",
       " ['SchoolAgain', 'XEdu'],\n",
       " ['SchoolAgain', 'KidsFlyUp'],\n",
       " ['SchoolAgain', 'NoMoneyDown'],\n",
       " ['COVIDFree', 'KidsFlyUp'],\n",
       " ['HomeSafe', 'KidsFlyUp'],\n",
       " ['SchoolAgain', 'NoMoneyDown'],\n",
       " ['SchoolAgain', 'NoMoneyDown'],\n",
       " ['HomeSafe', 'NoMoneyDown'],\n",
       " ['HomeSafe', 'XEdu'],\n",
       " ['HomeSafe', 'NoMoneyDown'],\n",
       " ['SchoolAgain', 'NoMoneyDown'],\n",
       " ['SchoolAgain', 'NoMoneyDown'],\n",
       " ['HomeSafe', 'XEdu'],\n",
       " ['HomeSafe', 'XEdu'],\n",
       " ['SchoolAgain', 'KidsFlyUp'],\n",
       " ['SchoolAgain', 'NoMoneyDown'],\n",
       " ['HomeSafe', 'NoMoneyDown'],\n",
       " ['SchoolAgain', 'KidsFlyUp'],\n",
       " ['SchoolAgain', 'NoMoneyDown'],\n",
       " ['SchoolAgain', 'KidsFlyUp'],\n",
       " ['SchoolAgain', 'NoMoneyDown'],\n",
       " ['SchoolAgain', 'XEdu'],\n",
       " ['SchoolAgain', 'KidsFlyUp'],\n",
       " ['SchoolAgain', 'KidsFlyUp'],\n",
       " ['SchoolAgain', 'NoMoneyDown'],\n",
       " ['HomeSafe', 'KidsFlyUp'],\n",
       " ['SchoolAgain', 'XEdu'],\n",
       " ['SchoolAgain', 'NoMoneyDown'],\n",
       " ['SchoolAgain', 'NoMoneyDown'],\n",
       " ['SchoolAgain', 'XEdu'],\n",
       " ['HomeSafe', 'XEdu'],\n",
       " ['HomeSafe', 'NoMoneyDown'],\n",
       " ['COVIDFree', 'NoMoneyDown'],\n",
       " ['COVIDFree', 'NoMoneyDown'],\n",
       " ['SchoolAgain', 'KidsFlyUp'],\n",
       " ['SchoolAgain', 'KidsFlyUp'],\n",
       " ['SchoolAgain', 'XEdu'],\n",
       " ['HomeSafe', 'XEdu'],\n",
       " ['SchoolAgain', 'KidsFlyUp'],\n",
       " ['COVIDFree', 'KidsFlyUp'],\n",
       " ['SchoolAgain', 'XEdu'],\n",
       " ['COVIDFree', 'KidsFlyUp'],\n",
       " ['COVIDFree', 'KidsFlyUp'],\n",
       " ['COVIDFree', 'XEdu'],\n",
       " ['SchoolAgain', 'KidsFlyUp'],\n",
       " ['COVIDFree', 'NoMoneyDown'],\n",
       " ['COVIDFree', 'NoMoneyDown'],\n",
       " ['SchoolAgain', 'KidsFlyUp'],\n",
       " ['SchoolAgain', 'KidsFlyUp'],\n",
       " ['SchoolAgain', 'KidsFlyUp'],\n",
       " ['SchoolAgain', 'KidsFlyUp'],\n",
       " ['COVIDFree', 'XEdu'],\n",
       " ['SchoolAgain', 'XEdu'],\n",
       " ['SchoolAgain', 'KidsFlyUp'],\n",
       " ['SchoolAgain', 'KidsFlyUp'],\n",
       " ['SchoolAgain', 'XEdu'],\n",
       " ['SchoolAgain', 'XEdu'],\n",
       " ['COVIDFree', 'XEdu'],\n",
       " ['SchoolAgain', 'NoMoneyDown'],\n",
       " ['HomeSafe', 'XEdu'],\n",
       " ['SchoolAgain', 'NoMoneyDown'],\n",
       " ['HomeSafe', 'NoMoneyDown'],\n",
       " ['COVIDFree', 'NoMoneyDown'],\n",
       " ['COVIDFree', 'NoMoneyDown'],\n",
       " ['HomeSafe', 'KidsFlyUp'],\n",
       " ['HomeSafe', 'KidsFlyUp'],\n",
       " ['SchoolAgain', 'XEdu'],\n",
       " ['SchoolAgain', 'NoMoneyDown'],\n",
       " ['SchoolAgain', 'XEdu'],\n",
       " ['HomeSafe', 'NoMoneyDown'],\n",
       " ['HomeSafe', 'NoMoneyDown'],\n",
       " ['SchoolAgain', 'XEdu'],\n",
       " ['COVIDFree', 'KidsFlyUp'],\n",
       " ['SchoolAgain', 'NoMoneyDown'],\n",
       " ['COVIDFree', 'XEdu'],\n",
       " ['SchoolAgain', 'KidsFlyUp'],\n",
       " ['HomeSafe', 'XEdu'],\n",
       " ['COVIDFree', 'XEdu'],\n",
       " ['COVIDFree', 'KidsFlyUp'],\n",
       " ['SchoolAgain', 'KidsFlyUp'],\n",
       " ['SchoolAgain', 'KidsFlyUp'],\n",
       " ['SchoolAgain', 'XEdu'],\n",
       " ['COVIDFree', 'XEdu'],\n",
       " ['SchoolAgain', 'XEdu'],\n",
       " ['COVIDFree', 'KidsFlyUp'],\n",
       " ['SchoolAgain', 'NoMoneyDown'],\n",
       " ['HomeSafe', 'KidsFlyUp'],\n",
       " ['HomeSafe', 'XEdu'],\n",
       " ['SchoolAgain', 'KidsFlyUp'],\n",
       " ['SchoolAgain', 'XEdu'],\n",
       " ['SchoolAgain', 'NoMoneyDown'],\n",
       " ['SchoolAgain', 'NoMoneyDown'],\n",
       " ['SchoolAgain', 'NoMoneyDown'],\n",
       " ['SchoolAgain', 'XEdu'],\n",
       " ['COVIDFree', 'XEdu'],\n",
       " ['SchoolAgain', 'NoMoneyDown'],\n",
       " ['COVIDFree', 'XEdu'],\n",
       " ['SchoolAgain', 'NoMoneyDown'],\n",
       " ['SchoolAgain', 'KidsFlyUp'],\n",
       " ['SchoolAgain', 'KidsFlyUp'],\n",
       " ['COVIDFree', 'NoMoneyDown'],\n",
       " ['SchoolAgain', 'KidsFlyUp'],\n",
       " ['HomeSafe', 'KidsFlyUp'],\n",
       " ['SchoolAgain', 'XEdu'],\n",
       " ['COVIDFree', 'XEdu'],\n",
       " ['HomeSafe', 'NoMoneyDown'],\n",
       " ['SchoolAgain', 'XEdu'],\n",
       " ['HomeSafe', 'XEdu'],\n",
       " ['SchoolAgain', 'NoMoneyDown'],\n",
       " ['COVIDFree', 'KidsFlyUp'],\n",
       " ['COVIDFree', 'KidsFlyUp'],\n",
       " ['SchoolAgain', 'NoMoneyDown'],\n",
       " ['SchoolAgain', 'NoMoneyDown'],\n",
       " ['SchoolAgain', 'XEdu'],\n",
       " ['SchoolAgain', 'NoMoneyDown'],\n",
       " ['HomeSafe', 'NoMoneyDown'],\n",
       " ['SchoolAgain', 'NoMoneyDown'],\n",
       " ['SchoolAgain', 'KidsFlyUp'],\n",
       " ['SchoolAgain', 'KidsFlyUp'],\n",
       " ['SchoolAgain', 'NoMoneyDown'],\n",
       " ['SchoolAgain', 'NoMoneyDown'],\n",
       " ['SchoolAgain', 'XEdu'],\n",
       " ['SchoolAgain', 'XEdu'],\n",
       " ['SchoolAgain', 'XEdu'],\n",
       " ['SchoolAgain', 'NoMoneyDown'],\n",
       " ['SchoolAgain', 'NoMoneyDown'],\n",
       " ['COVIDFree', 'NoMoneyDown'],\n",
       " ['SchoolAgain', 'NoMoneyDown'],\n",
       " ['COVIDFree', 'KidsFlyUp'],\n",
       " ['SchoolAgain', 'KidsFlyUp'],\n",
       " ['HomeSafe', 'XEdu'],\n",
       " ['COVIDFree', 'NoMoneyDown'],\n",
       " ['HomeSafe', 'XEdu'],\n",
       " ['SchoolAgain', 'NoMoneyDown'],\n",
       " ['COVIDFree', 'XEdu'],\n",
       " ['SchoolAgain', 'XEdu'],\n",
       " ['SchoolAgain', 'XEdu'],\n",
       " ['HomeSafe', 'NoMoneyDown'],\n",
       " ['HomeSafe', 'XEdu'],\n",
       " ['COVIDFree', 'NoMoneyDown'],\n",
       " ['SchoolAgain', 'XEdu'],\n",
       " ['SchoolAgain', 'XEdu'],\n",
       " ['SchoolAgain', 'XEdu'],\n",
       " ['SchoolAgain', 'XEdu'],\n",
       " ['SchoolAgain', 'KidsFlyUp'],\n",
       " ['SchoolAgain', 'NoMoneyDown'],\n",
       " ['SchoolAgain', 'KidsFlyUp'],\n",
       " ['COVIDFree', 'KidsFlyUp'],\n",
       " ['COVIDFree', 'XEdu'],\n",
       " ['SchoolAgain', 'XEdu'],\n",
       " ['SchoolAgain', 'KidsFlyUp'],\n",
       " ['COVIDFree', 'KidsFlyUp'],\n",
       " ['HomeSafe', 'XEdu'],\n",
       " ['SchoolAgain', 'XEdu'],\n",
       " ['SchoolAgain', 'XEdu'],\n",
       " ['COVIDFree', 'KidsFlyUp'],\n",
       " ['SchoolAgain', 'XEdu'],\n",
       " ['SchoolAgain', 'KidsFlyUp'],\n",
       " ['SchoolAgain', 'NoMoneyDown'],\n",
       " ['SchoolAgain', 'NoMoneyDown'],\n",
       " ['SchoolAgain', 'NoMoneyDown'],\n",
       " ['HomeSafe', 'NoMoneyDown'],\n",
       " ['HomeSafe', 'KidsFlyUp'],\n",
       " ['SchoolAgain', 'XEdu'],\n",
       " ['SchoolAgain', 'NoMoneyDown'],\n",
       " ['SchoolAgain', 'KidsFlyUp'],\n",
       " ['SchoolAgain', 'KidsFlyUp'],\n",
       " ['SchoolAgain', 'XEdu'],\n",
       " ['COVIDFree', 'XEdu'],\n",
       " ['HomeSafe', 'NoMoneyDown'],\n",
       " ['SchoolAgain', 'XEdu'],\n",
       " ['SchoolAgain', 'KidsFlyUp'],\n",
       " ['HomeSafe', 'NoMoneyDown'],\n",
       " ['SchoolAgain', 'XEdu'],\n",
       " ['COVIDFree', 'NoMoneyDown'],\n",
       " ['HomeSafe', 'KidsFlyUp'],\n",
       " ['SchoolAgain', 'NoMoneyDown'],\n",
       " ['SchoolAgain', 'XEdu'],\n",
       " ['HomeSafe', 'XEdu'],\n",
       " ['HomeSafe', 'KidsFlyUp'],\n",
       " ['SchoolAgain', 'KidsFlyUp'],\n",
       " ['HomeSafe', 'XEdu'],\n",
       " ['COVIDFree', 'KidsFlyUp'],\n",
       " ['COVIDFree', 'XEdu'],\n",
       " ['HomeSafe', 'KidsFlyUp'],\n",
       " ['SchoolAgain', 'XEdu'],\n",
       " ['SchoolAgain', 'KidsFlyUp'],\n",
       " ['SchoolAgain', 'XEdu'],\n",
       " ['SchoolAgain', 'XEdu'],\n",
       " ['SchoolAgain', 'XEdu'],\n",
       " ['SchoolAgain', 'NoMoneyDown'],\n",
       " ['SchoolAgain', 'XEdu'],\n",
       " ['COVIDFree', 'KidsFlyUp'],\n",
       " ['COVIDFree', 'KidsFlyUp'],\n",
       " ['SchoolAgain', 'NoMoneyDown'],\n",
       " ['HomeSafe', 'XEdu'],\n",
       " ['SchoolAgain', 'NoMoneyDown'],\n",
       " ['SchoolAgain', 'XEdu'],\n",
       " ['COVIDFree', 'NoMoneyDown'],\n",
       " ['SchoolAgain', 'NoMoneyDown'],\n",
       " ['SchoolAgain', 'XEdu'],\n",
       " ['SchoolAgain', 'XEdu'],\n",
       " ['COVIDFree', 'XEdu'],\n",
       " ['HomeSafe', 'KidsFlyUp'],\n",
       " ['HomeSafe', 'NoMoneyDown'],\n",
       " ['SchoolAgain', 'XEdu'],\n",
       " ['HomeSafe', 'XEdu'],\n",
       " ['SchoolAgain', 'NoMoneyDown'],\n",
       " ['COVIDFree', 'XEdu'],\n",
       " ['COVIDFree', 'KidsFlyUp'],\n",
       " ['SchoolAgain', 'KidsFlyUp'],\n",
       " ['HomeSafe', 'KidsFlyUp'],\n",
       " ['HomeSafe', 'XEdu'],\n",
       " ['SchoolAgain', 'KidsFlyUp'],\n",
       " ['COVIDFree', 'KidsFlyUp'],\n",
       " ['SchoolAgain', 'NoMoneyDown'],\n",
       " ['COVIDFree', 'KidsFlyUp'],\n",
       " ['SchoolAgain', 'XEdu'],\n",
       " ['HomeSafe', 'NoMoneyDown'],\n",
       " ['COVIDFree', 'NoMoneyDown'],\n",
       " ['SchoolAgain', 'XEdu'],\n",
       " ['SchoolAgain', 'XEdu'],\n",
       " ['COVIDFree', 'KidsFlyUp'],\n",
       " ['HomeSafe', 'XEdu'],\n",
       " ['COVIDFree', 'XEdu'],\n",
       " ['SchoolAgain', 'XEdu'],\n",
       " ['SchoolAgain', 'NoMoneyDown'],\n",
       " ['SchoolAgain', 'KidsFlyUp'],\n",
       " ['HomeSafe', 'XEdu'],\n",
       " ['SchoolAgain', 'XEdu'],\n",
       " ['COVIDFree', 'XEdu'],\n",
       " ['SchoolAgain', 'XEdu'],\n",
       " ['HomeSafe', 'NoMoneyDown'],\n",
       " ['COVIDFree', 'XEdu'],\n",
       " ['SchoolAgain', 'KidsFlyUp'],\n",
       " ['SchoolAgain', 'NoMoneyDown'],\n",
       " ['SchoolAgain', 'NoMoneyDown'],\n",
       " ['COVIDFree', 'XEdu'],\n",
       " ['SchoolAgain', 'XEdu'],\n",
       " ['SchoolAgain', 'KidsFlyUp'],\n",
       " ['SchoolAgain', 'NoMoneyDown'],\n",
       " ['SchoolAgain', 'NoMoneyDown'],\n",
       " ['COVIDFree', 'NoMoneyDown'],\n",
       " ['HomeSafe', 'XEdu'],\n",
       " ['SchoolAgain', 'NoMoneyDown'],\n",
       " ['SchoolAgain', 'NoMoneyDown'],\n",
       " ['COVIDFree', 'NoMoneyDown'],\n",
       " ['SchoolAgain', 'KidsFlyUp'],\n",
       " ['SchoolAgain', 'NoMoneyDown'],\n",
       " ['HomeSafe', 'NoMoneyDown'],\n",
       " ['HomeSafe', 'KidsFlyUp'],\n",
       " ['COVIDFree', 'NoMoneyDown'],\n",
       " ['SchoolAgain', 'KidsFlyUp'],\n",
       " ['COVIDFree', 'KidsFlyUp'],\n",
       " ['SchoolAgain', 'NoMoneyDown'],\n",
       " ['HomeSafe', 'XEdu'],\n",
       " ['SchoolAgain', 'KidsFlyUp'],\n",
       " ['SchoolAgain', 'KidsFlyUp'],\n",
       " ['COVIDFree', 'KidsFlyUp'],\n",
       " ['SchoolAgain', 'XEdu'],\n",
       " ['SchoolAgain', 'NoMoneyDown'],\n",
       " ['SchoolAgain', 'NoMoneyDown'],\n",
       " ['SchoolAgain', 'KidsFlyUp'],\n",
       " ['SchoolAgain', 'XEdu'],\n",
       " ['HomeSafe', 'XEdu'],\n",
       " ['HomeSafe', 'NoMoneyDown'],\n",
       " ['SchoolAgain', 'NoMoneyDown'],\n",
       " ['SchoolAgain', 'KidsFlyUp'],\n",
       " ['HomeSafe', 'KidsFlyUp'],\n",
       " ['SchoolAgain', 'XEdu'],\n",
       " ['HomeSafe', 'KidsFlyUp'],\n",
       " ['SchoolAgain', 'XEdu'],\n",
       " ['SchoolAgain', 'XEdu'],\n",
       " ['SchoolAgain', 'XEdu'],\n",
       " ['SchoolAgain', 'KidsFlyUp'],\n",
       " ['HomeSafe', 'NoMoneyDown'],\n",
       " ['COVIDFree', 'XEdu'],\n",
       " ['COVIDFree', 'KidsFlyUp'],\n",
       " ['COVIDFree', 'XEdu'],\n",
       " ['COVIDFree', 'NoMoneyDown'],\n",
       " ['SchoolAgain', 'XEdu'],\n",
       " ['SchoolAgain', 'XEdu'],\n",
       " ['SchoolAgain', 'KidsFlyUp'],\n",
       " ['SchoolAgain', 'KidsFlyUp'],\n",
       " ['SchoolAgain', 'NoMoneyDown'],\n",
       " ['HomeSafe', 'NoMoneyDown'],\n",
       " ['SchoolAgain', 'XEdu'],\n",
       " ['COVIDFree', 'NoMoneyDown'],\n",
       " ['SchoolAgain', 'KidsFlyUp'],\n",
       " ['HomeSafe', 'KidsFlyUp'],\n",
       " ['HomeSafe', 'XEdu'],\n",
       " ['SchoolAgain', 'NoMoneyDown'],\n",
       " ['SchoolAgain', 'KidsFlyUp'],\n",
       " ['SchoolAgain', 'XEdu'],\n",
       " ['SchoolAgain', 'XEdu'],\n",
       " ['HomeSafe', 'XEdu'],\n",
       " ['SchoolAgain', 'KidsFlyUp'],\n",
       " ['SchoolAgain', 'XEdu'],\n",
       " ['HomeSafe', 'KidsFlyUp'],\n",
       " ['SchoolAgain', 'XEdu'],\n",
       " ['SchoolAgain', 'NoMoneyDown'],\n",
       " ['HomeSafe', 'NoMoneyDown'],\n",
       " ['SchoolAgain', 'XEdu'],\n",
       " ['HomeSafe', 'NoMoneyDown'],\n",
       " ['SchoolAgain', 'KidsFlyUp'],\n",
       " ['HomeSafe', 'NoMoneyDown'],\n",
       " ['SchoolAgain', 'XEdu'],\n",
       " ['SchoolAgain', 'XEdu'],\n",
       " ['COVIDFree', 'KidsFlyUp'],\n",
       " ['SchoolAgain', 'XEdu'],\n",
       " ['SchoolAgain', 'XEdu'],\n",
       " ['HomeSafe', 'KidsFlyUp'],\n",
       " ['COVIDFree', 'KidsFlyUp'],\n",
       " ['SchoolAgain', 'NoMoneyDown'],\n",
       " ['COVIDFree', 'XEdu'],\n",
       " ['HomeSafe', 'KidsFlyUp'],\n",
       " ['SchoolAgain', 'KidsFlyUp'],\n",
       " ['COVIDFree', 'KidsFlyUp'],\n",
       " ['COVIDFree', 'KidsFlyUp'],\n",
       " ['HomeSafe', 'KidsFlyUp']]"
      ]
     },
     "execution_count": 81,
     "metadata": {},
     "output_type": "execute_result"
    }
   ],
   "source": [
    "records"
   ]
  },
  {
   "cell_type": "code",
   "execution_count": 82,
   "metadata": {},
   "outputs": [],
   "source": [
    "association_rules = apriori(records, min_support=0.0045, min_confidence=0.0001, min_lift=1, min_length=2)\n",
    "association_results = list(association_rules)"
   ]
  },
  {
   "cell_type": "code",
   "execution_count": 83,
   "metadata": {},
   "outputs": [
    {
     "name": "stdout",
     "output_type": "stream",
     "text": [
      "Total rule : 15\n"
     ]
    }
   ],
   "source": [
    "print (\"Total rule : \" + str(len(association_results)))\n"
   ]
  },
  {
   "cell_type": "code",
   "execution_count": 84,
   "metadata": {},
   "outputs": [
    {
     "name": "stdout",
     "output_type": "stream",
     "text": [
      "RelationRecord(items=frozenset({'COVIDFree'}), support=0.22, ordered_statistics=[OrderedStatistic(items_base=frozenset(), items_add=frozenset({'COVIDFree'}), confidence=0.22, lift=1.0)])\n"
     ]
    }
   ],
   "source": [
    "print(association_results[0])"
   ]
  },
  {
   "cell_type": "code",
   "execution_count": 85,
   "metadata": {},
   "outputs": [
    {
     "name": "stdout",
     "output_type": "stream",
     "text": [
      "Rule 0 \n",
      "RelationRecord(items=frozenset({'COVIDFree'}), support=0.22, ordered_statistics=[OrderedStatistic(items_base=frozenset(), items_add=frozenset({'COVIDFree'}), confidence=0.22, lift=1.0)])\n",
      "\n",
      "\n",
      "Rule 1 \n",
      "RelationRecord(items=frozenset({'HomeSafe'}), support=0.192, ordered_statistics=[OrderedStatistic(items_base=frozenset(), items_add=frozenset({'HomeSafe'}), confidence=0.192, lift=1.0)])\n",
      "\n",
      "\n",
      "Rule 2 \n",
      "RelationRecord(items=frozenset({'KidsFlyUp'}), support=0.314, ordered_statistics=[OrderedStatistic(items_base=frozenset(), items_add=frozenset({'KidsFlyUp'}), confidence=0.314, lift=1.0)])\n",
      "\n",
      "\n",
      "Rule 3 \n",
      "RelationRecord(items=frozenset({'NoMoneyDown'}), support=0.308, ordered_statistics=[OrderedStatistic(items_base=frozenset(), items_add=frozenset({'NoMoneyDown'}), confidence=0.308, lift=1.0)])\n",
      "\n",
      "\n",
      "Rule 4 \n",
      "RelationRecord(items=frozenset({'SchoolAgain'}), support=0.588, ordered_statistics=[OrderedStatistic(items_base=frozenset(), items_add=frozenset({'SchoolAgain'}), confidence=0.588, lift=1.0)])\n",
      "\n",
      "\n",
      "Rule 5 \n",
      "RelationRecord(items=frozenset({'XEdu'}), support=0.378, ordered_statistics=[OrderedStatistic(items_base=frozenset(), items_add=frozenset({'XEdu'}), confidence=0.378, lift=1.0)])\n",
      "\n",
      "\n",
      "Rule 6 \n",
      "RelationRecord(items=frozenset({'KidsFlyUp', 'COVIDFree'}), support=0.092, ordered_statistics=[OrderedStatistic(items_base=frozenset(), items_add=frozenset({'COVIDFree', 'KidsFlyUp'}), confidence=0.092, lift=1.0), OrderedStatistic(items_base=frozenset({'COVIDFree'}), items_add=frozenset({'KidsFlyUp'}), confidence=0.41818181818181815, lift=1.3317892298784018), OrderedStatistic(items_base=frozenset({'KidsFlyUp'}), items_add=frozenset({'COVIDFree'}), confidence=0.2929936305732484, lift=1.3317892298784018)])\n",
      "\n",
      "\n",
      "Rule 7 \n",
      "RelationRecord(items=frozenset({'NoMoneyDown', 'COVIDFree'}), support=0.058, ordered_statistics=[OrderedStatistic(items_base=frozenset(), items_add=frozenset({'NoMoneyDown', 'COVIDFree'}), confidence=0.058, lift=1.0)])\n",
      "\n",
      "\n",
      "Rule 8 \n",
      "RelationRecord(items=frozenset({'XEdu', 'COVIDFree'}), support=0.07, ordered_statistics=[OrderedStatistic(items_base=frozenset(), items_add=frozenset({'XEdu', 'COVIDFree'}), confidence=0.07, lift=1.0)])\n",
      "\n",
      "\n",
      "Rule 9 \n",
      "RelationRecord(items=frozenset({'HomeSafe', 'KidsFlyUp'}), support=0.06, ordered_statistics=[OrderedStatistic(items_base=frozenset(), items_add=frozenset({'HomeSafe', 'KidsFlyUp'}), confidence=0.06, lift=1.0)])\n",
      "\n",
      "\n",
      "Rule 10 \n",
      "RelationRecord(items=frozenset({'HomeSafe', 'NoMoneyDown'}), support=0.064, ordered_statistics=[OrderedStatistic(items_base=frozenset(), items_add=frozenset({'HomeSafe', 'NoMoneyDown'}), confidence=0.064, lift=1.0), OrderedStatistic(items_base=frozenset({'HomeSafe'}), items_add=frozenset({'NoMoneyDown'}), confidence=0.3333333333333333, lift=1.0822510822510822), OrderedStatistic(items_base=frozenset({'NoMoneyDown'}), items_add=frozenset({'HomeSafe'}), confidence=0.2077922077922078, lift=1.0822510822510822)])\n",
      "\n",
      "\n",
      "Rule 11 \n",
      "RelationRecord(items=frozenset({'HomeSafe', 'XEdu'}), support=0.068, ordered_statistics=[OrderedStatistic(items_base=frozenset(), items_add=frozenset({'HomeSafe', 'XEdu'}), confidence=0.068, lift=1.0)])\n",
      "\n",
      "\n",
      "Rule 12 \n",
      "RelationRecord(items=frozenset({'SchoolAgain', 'KidsFlyUp'}), support=0.162, ordered_statistics=[OrderedStatistic(items_base=frozenset(), items_add=frozenset({'SchoolAgain', 'KidsFlyUp'}), confidence=0.162, lift=1.0)])\n",
      "\n",
      "\n",
      "Rule 13 \n",
      "RelationRecord(items=frozenset({'NoMoneyDown', 'SchoolAgain'}), support=0.186, ordered_statistics=[OrderedStatistic(items_base=frozenset(), items_add=frozenset({'NoMoneyDown', 'SchoolAgain'}), confidence=0.186, lift=1.0), OrderedStatistic(items_base=frozenset({'NoMoneyDown'}), items_add=frozenset({'SchoolAgain'}), confidence=0.6038961038961039, lift=1.0270341902994966), OrderedStatistic(items_base=frozenset({'SchoolAgain'}), items_add=frozenset({'NoMoneyDown'}), confidence=0.3163265306122449, lift=1.0270341902994964)])\n",
      "\n",
      "\n",
      "Rule 14 \n",
      "RelationRecord(items=frozenset({'XEdu', 'SchoolAgain'}), support=0.24, ordered_statistics=[OrderedStatistic(items_base=frozenset(), items_add=frozenset({'XEdu', 'SchoolAgain'}), confidence=0.24, lift=1.0), OrderedStatistic(items_base=frozenset({'SchoolAgain'}), items_add=frozenset({'XEdu'}), confidence=0.40816326530612246, lift=1.0797969981643452), OrderedStatistic(items_base=frozenset({'XEdu'}), items_add=frozenset({'SchoolAgain'}), confidence=0.6349206349206349, lift=1.0797969981643452)])\n",
      "\n",
      "\n"
     ]
    }
   ],
   "source": [
    "for i in range(0, len(association_results)):\n",
    "    print( \"Rule \" + str(i) + \" \" )\n",
    "    print(association_results[i])\n",
    "    print(\"\\n\")"
   ]
  },
  {
   "cell_type": "code",
   "execution_count": 86,
   "metadata": {},
   "outputs": [
    {
     "name": "stdout",
     "output_type": "stream",
     "text": [
      "(Rule 1) COVIDFree\n",
      "Support: 0.22\n",
      "Confidence: 0.22\n",
      "Lift: 1.0\n",
      "=====================================\n",
      "(Rule 2) HomeSafe\n",
      "Support: 0.192\n",
      "Confidence: 0.192\n",
      "Lift: 1.0\n",
      "=====================================\n",
      "(Rule 3) KidsFlyUp\n",
      "Support: 0.314\n",
      "Confidence: 0.314\n",
      "Lift: 1.0\n",
      "=====================================\n",
      "(Rule 4) NoMoneyDown\n",
      "Support: 0.308\n",
      "Confidence: 0.308\n",
      "Lift: 1.0\n",
      "=====================================\n",
      "(Rule 5) SchoolAgain\n",
      "Support: 0.588\n",
      "Confidence: 0.588\n",
      "Lift: 1.0\n",
      "=====================================\n",
      "(Rule 6) XEdu\n",
      "Support: 0.378\n",
      "Confidence: 0.378\n",
      "Lift: 1.0\n",
      "=====================================\n",
      "(Rule 7) KidsFlyUp\n",
      "Support: 0.092\n",
      "Confidence: 0.092\n",
      "Lift: 1.0\n",
      "=====================================\n",
      "(Rule 8) NoMoneyDown\n",
      "Support: 0.058\n",
      "Confidence: 0.058\n",
      "Lift: 1.0\n",
      "=====================================\n",
      "(Rule 9) XEdu\n",
      "Support: 0.07\n",
      "Confidence: 0.07\n",
      "Lift: 1.0\n",
      "=====================================\n",
      "(Rule 10) HomeSafe\n",
      "Support: 0.06\n",
      "Confidence: 0.06\n",
      "Lift: 1.0\n",
      "=====================================\n",
      "(Rule 11) HomeSafe\n",
      "Support: 0.064\n",
      "Confidence: 0.064\n",
      "Lift: 1.0\n",
      "=====================================\n",
      "(Rule 12) HomeSafe\n",
      "Support: 0.068\n",
      "Confidence: 0.068\n",
      "Lift: 1.0\n",
      "=====================================\n",
      "(Rule 13) SchoolAgain\n",
      "Support: 0.162\n",
      "Confidence: 0.162\n",
      "Lift: 1.0\n",
      "=====================================\n",
      "(Rule 14) NoMoneyDown\n",
      "Support: 0.186\n",
      "Confidence: 0.186\n",
      "Lift: 1.0\n",
      "=====================================\n",
      "(Rule 15) XEdu\n",
      "Support: 0.24\n",
      "Confidence: 0.24\n",
      "Lift: 1.0\n",
      "=====================================\n"
     ]
    }
   ],
   "source": [
    "cnt =0\n",
    "\n",
    "for item in association_results:\n",
    "    cnt += 1\n",
    "    # first index of the inner list\n",
    "    # Contains base item and add item\n",
    "    pair = item[0] \n",
    "    items = [x for x in pair]\n",
    "    #print(\"(Rule \" + str(cnt) + \") \" + items[0] + \" -> \" + items[1])\n",
    "    print(\"(Rule \" + str(cnt) + \") \" + items[0])# + \" -> \" + items[1])\n",
    "\n",
    "    #second index of the inner list\n",
    "    print(\"Support: \" + str(round(item[1],3)))\n",
    "\n",
    "    #third index of the list located at 0th\n",
    "    #of the third index of the inner list\n",
    "\n",
    "    print(\"Confidence: \" + str(round(item[2][0][2],4)))\n",
    "    print(\"Lift: \" + str(round(item[2][0][3],4)))\n",
    "    print(\"=====================================\")"
   ]
  },
  {
   "cell_type": "code",
   "execution_count": null,
   "metadata": {},
   "outputs": [],
   "source": []
  },
  {
   "cell_type": "markdown",
   "metadata": {},
   "source": [
    "# Streamlit"
   ]
  },
  {
   "cell_type": "code",
   "execution_count": 87,
   "metadata": {},
   "outputs": [
    {
     "name": "stdout",
     "output_type": "stream",
     "text": [
      "Collecting streamlitNote: you may need to restart the kernel to use updated packages.\n",
      "\n",
      "  Using cached streamlit-0.67.0-py2.py3-none-any.whl (7.2 MB)\n",
      "Collecting cachetools>=4.0\n",
      "  Using cached cachetools-4.1.1-py3-none-any.whl (10 kB)\n",
      "Collecting base58\n",
      "  Using cached base58-2.0.1-py3-none-any.whl (4.3 kB)\n",
      "Requirement already satisfied: pandas>=0.21.0 in c:\\users\\user\\anaconda3\\lib\\site-packages (from streamlit) (1.0.5)\n",
      "Collecting botocore>=1.13.44\n",
      "  Using cached botocore-1.18.0.tar.gz (6.8 MB)\n",
      "Requirement already satisfied: numpy in c:\\users\\user\\anaconda3\\lib\\site-packages (from streamlit) (1.18.5)\n",
      "Collecting altair>=3.2.0\n",
      "  Using cached altair-4.1.0-py3-none-any.whl (727 kB)\n",
      "Collecting pyarrow\n",
      "  Using cached pyarrow-1.0.1-cp38-cp38-win_amd64.whl (10.5 MB)\n",
      "Requirement already satisfied: packaging in c:\\users\\user\\anaconda3\\lib\\site-packages (from streamlit) (20.4)\n",
      "Collecting validators\n",
      "  Using cached validators-0.18.1-py3-none-any.whl (19 kB)\n",
      "Collecting astor\n",
      "  Using cached astor-0.8.1-py2.py3-none-any.whl (27 kB)\n",
      "Requirement already satisfied: tornado>=5.0 in c:\\users\\user\\anaconda3\\lib\\site-packages (from streamlit) (6.0.4)\n",
      "Requirement already satisfied: toml in c:\\users\\user\\anaconda3\\lib\\site-packages (from streamlit) (0.10.1)\n",
      "Collecting tzlocal\n",
      "  Using cached tzlocal-2.1-py2.py3-none-any.whl (16 kB)\n",
      "Requirement already satisfied: pillow>=6.2.0 in c:\\users\\user\\anaconda3\\lib\\site-packages (from streamlit) (7.2.0)\n",
      "Collecting blinker\n",
      "  Using cached blinker-1.4.tar.gz (111 kB)\n",
      "Requirement already satisfied: click>=7.0 in c:\\users\\user\\anaconda3\\lib\\site-packages (from streamlit) (7.1.2)\n",
      "Requirement already satisfied: watchdog in c:\\users\\user\\anaconda3\\lib\\site-packages (from streamlit) (0.10.3)\n",
      "Requirement already satisfied: python-dateutil in c:\\users\\user\\anaconda3\\lib\\site-packages (from streamlit) (2.8.1)\n",
      "Collecting protobuf>=3.6.0\n",
      "  Using cached protobuf-3.13.0-py2.py3-none-any.whl (438 kB)\n",
      "Collecting boto3\n",
      "  Using cached boto3-1.15.0-py2.py3-none-any.whl (129 kB)\n",
      "Collecting pydeck>=0.1.dev5\n",
      "  Using cached pydeck-0.5.0b1-py2.py3-none-any.whl (4.4 MB)\n",
      "Requirement already satisfied: requests in c:\\users\\user\\anaconda3\\lib\\site-packages (from streamlit) (2.24.0)\n",
      "Collecting enum-compat\n",
      "  Using cached enum_compat-0.0.3-py3-none-any.whl (1.3 kB)\n",
      "Requirement already satisfied: pytz>=2017.2 in c:\\users\\user\\anaconda3\\lib\\site-packages (from pandas>=0.21.0->streamlit) (2020.1)\n",
      "Collecting jmespath<1.0.0,>=0.7.1\n",
      "  Using cached jmespath-0.10.0-py2.py3-none-any.whl (24 kB)\n",
      "Requirement already satisfied: urllib3<1.26,>=1.20 in c:\\users\\user\\anaconda3\\lib\\site-packages (from botocore>=1.13.44->streamlit) (1.25.9)\n",
      "Requirement already satisfied: jsonschema in c:\\users\\user\\anaconda3\\lib\\site-packages (from altair>=3.2.0->streamlit) (3.2.0)\n",
      "Requirement already satisfied: toolz in c:\\users\\user\\anaconda3\\lib\\site-packages (from altair>=3.2.0->streamlit) (0.10.0)\n",
      "Requirement already satisfied: entrypoints in c:\\users\\user\\anaconda3\\lib\\site-packages (from altair>=3.2.0->streamlit) (0.3)\n",
      "Requirement already satisfied: jinja2 in c:\\users\\user\\anaconda3\\lib\\site-packages (from altair>=3.2.0->streamlit) (2.11.2)\n",
      "Requirement already satisfied: pyparsing>=2.0.2 in c:\\users\\user\\anaconda3\\lib\\site-packages (from packaging->streamlit) (2.4.7)\n",
      "Requirement already satisfied: six in c:\\users\\user\\anaconda3\\lib\\site-packages (from packaging->streamlit) (1.15.0)\n",
      "Requirement already satisfied: decorator>=3.4.0 in c:\\users\\user\\anaconda3\\lib\\site-packages (from validators->streamlit) (4.4.2)\n",
      "Requirement already satisfied: pathtools>=0.1.1 in c:\\users\\user\\anaconda3\\lib\\site-packages (from watchdog->streamlit) (0.1.2)\n",
      "Requirement already satisfied: setuptools in c:\\users\\user\\anaconda3\\lib\\site-packages (from protobuf>=3.6.0->streamlit) (49.2.0.post20200714)\n",
      "Collecting s3transfer<0.4.0,>=0.3.0\n",
      "  Using cached s3transfer-0.3.3-py2.py3-none-any.whl (69 kB)\n",
      "Requirement already satisfied: ipykernel>=5.1.2; python_version >= \"3.4\" in c:\\users\\user\\anaconda3\\lib\\site-packages (from pydeck>=0.1.dev5->streamlit) (5.3.2)\n",
      "Requirement already satisfied: ipywidgets>=7.0.0 in c:\\users\\user\\anaconda3\\lib\\site-packages (from pydeck>=0.1.dev5->streamlit) (7.5.1)\n",
      "Requirement already satisfied: traitlets>=4.3.2 in c:\\users\\user\\anaconda3\\lib\\site-packages (from pydeck>=0.1.dev5->streamlit) (4.3.3)\n",
      "Requirement already satisfied: chardet<4,>=3.0.2 in c:\\users\\user\\anaconda3\\lib\\site-packages (from requests->streamlit) (3.0.4)\n",
      "Requirement already satisfied: certifi>=2017.4.17 in c:\\users\\user\\anaconda3\\lib\\site-packages (from requests->streamlit) (2020.6.20)\n",
      "Requirement already satisfied: idna<3,>=2.5 in c:\\users\\user\\anaconda3\\lib\\site-packages (from requests->streamlit) (2.10)\n",
      "Requirement already satisfied: pyrsistent>=0.14.0 in c:\\users\\user\\anaconda3\\lib\\site-packages (from jsonschema->altair>=3.2.0->streamlit) (0.16.0)\n",
      "Requirement already satisfied: attrs>=17.4.0 in c:\\users\\user\\anaconda3\\lib\\site-packages (from jsonschema->altair>=3.2.0->streamlit) (19.3.0)\n",
      "Requirement already satisfied: MarkupSafe>=0.23 in c:\\users\\user\\anaconda3\\lib\\site-packages (from jinja2->altair>=3.2.0->streamlit) (1.1.1)\n",
      "Requirement already satisfied: ipython>=5.0.0 in c:\\users\\user\\anaconda3\\lib\\site-packages (from ipykernel>=5.1.2; python_version >= \"3.4\"->pydeck>=0.1.dev5->streamlit) (7.16.1)\n",
      "Requirement already satisfied: jupyter-client in c:\\users\\user\\anaconda3\\lib\\site-packages (from ipykernel>=5.1.2; python_version >= \"3.4\"->pydeck>=0.1.dev5->streamlit) (6.1.6)\n",
      "Requirement already satisfied: widgetsnbextension~=3.5.0 in c:\\users\\user\\anaconda3\\lib\\site-packages (from ipywidgets>=7.0.0->pydeck>=0.1.dev5->streamlit) (3.5.1)\n",
      "Requirement already satisfied: nbformat>=4.2.0 in c:\\users\\user\\anaconda3\\lib\\site-packages (from ipywidgets>=7.0.0->pydeck>=0.1.dev5->streamlit) (5.0.7)\n",
      "Requirement already satisfied: ipython-genutils in c:\\users\\user\\anaconda3\\lib\\site-packages (from traitlets>=4.3.2->pydeck>=0.1.dev5->streamlit) (0.2.0)\n",
      "Requirement already satisfied: backcall in c:\\users\\user\\anaconda3\\lib\\site-packages (from ipython>=5.0.0->ipykernel>=5.1.2; python_version >= \"3.4\"->pydeck>=0.1.dev5->streamlit) (0.2.0)\n",
      "Requirement already satisfied: pickleshare in c:\\users\\user\\anaconda3\\lib\\site-packages (from ipython>=5.0.0->ipykernel>=5.1.2; python_version >= \"3.4\"->pydeck>=0.1.dev5->streamlit) (0.7.5)\n",
      "Requirement already satisfied: pygments in c:\\users\\user\\anaconda3\\lib\\site-packages (from ipython>=5.0.0->ipykernel>=5.1.2; python_version >= \"3.4\"->pydeck>=0.1.dev5->streamlit) (2.6.1)\n",
      "Requirement already satisfied: jedi>=0.10 in c:\\users\\user\\anaconda3\\lib\\site-packages (from ipython>=5.0.0->ipykernel>=5.1.2; python_version >= \"3.4\"->pydeck>=0.1.dev5->streamlit) (0.17.1)\n",
      "Requirement already satisfied: colorama; sys_platform == \"win32\" in c:\\users\\user\\anaconda3\\lib\\site-packages (from ipython>=5.0.0->ipykernel>=5.1.2; python_version >= \"3.4\"->pydeck>=0.1.dev5->streamlit) (0.4.3)\n",
      "Requirement already satisfied: prompt-toolkit!=3.0.0,!=3.0.1,<3.1.0,>=2.0.0 in c:\\users\\user\\anaconda3\\lib\\site-packages (from ipython>=5.0.0->ipykernel>=5.1.2; python_version >= \"3.4\"->pydeck>=0.1.dev5->streamlit) (3.0.5)\n",
      "Requirement already satisfied: jupyter-core>=4.6.0 in c:\\users\\user\\anaconda3\\lib\\site-packages (from jupyter-client->ipykernel>=5.1.2; python_version >= \"3.4\"->pydeck>=0.1.dev5->streamlit) (4.6.3)\n",
      "Requirement already satisfied: pyzmq>=13 in c:\\users\\user\\anaconda3\\lib\\site-packages (from jupyter-client->ipykernel>=5.1.2; python_version >= \"3.4\"->pydeck>=0.1.dev5->streamlit) (19.0.1)\n",
      "Requirement already satisfied: notebook>=4.4.1 in c:\\users\\user\\anaconda3\\lib\\site-packages (from widgetsnbextension~=3.5.0->ipywidgets>=7.0.0->pydeck>=0.1.dev5->streamlit) (6.0.3)\n",
      "Requirement already satisfied: parso<0.8.0,>=0.7.0 in c:\\users\\user\\anaconda3\\lib\\site-packages (from jedi>=0.10->ipython>=5.0.0->ipykernel>=5.1.2; python_version >= \"3.4\"->pydeck>=0.1.dev5->streamlit) (0.7.0)\n",
      "Requirement already satisfied: wcwidth in c:\\users\\user\\anaconda3\\lib\\site-packages (from prompt-toolkit!=3.0.0,!=3.0.1,<3.1.0,>=2.0.0->ipython>=5.0.0->ipykernel>=5.1.2; python_version >= \"3.4\"->pydeck>=0.1.dev5->streamlit) (0.2.5)\n",
      "Requirement already satisfied: pywin32>=1.0; sys_platform == \"win32\" in c:\\users\\user\\anaconda3\\lib\\site-packages (from jupyter-core>=4.6.0->jupyter-client->ipykernel>=5.1.2; python_version >= \"3.4\"->pydeck>=0.1.dev5->streamlit) (227)\n",
      "Requirement already satisfied: Send2Trash in c:\\users\\user\\anaconda3\\lib\\site-packages (from notebook>=4.4.1->widgetsnbextension~=3.5.0->ipywidgets>=7.0.0->pydeck>=0.1.dev5->streamlit) (1.5.0)\n",
      "Requirement already satisfied: nbconvert in c:\\users\\user\\anaconda3\\lib\\site-packages (from notebook>=4.4.1->widgetsnbextension~=3.5.0->ipywidgets>=7.0.0->pydeck>=0.1.dev5->streamlit) (5.6.1)\n",
      "Requirement already satisfied: prometheus-client in c:\\users\\user\\anaconda3\\lib\\site-packages (from notebook>=4.4.1->widgetsnbextension~=3.5.0->ipywidgets>=7.0.0->pydeck>=0.1.dev5->streamlit) (0.8.0)\n",
      "Requirement already satisfied: terminado>=0.8.1 in c:\\users\\user\\anaconda3\\lib\\site-packages (from notebook>=4.4.1->widgetsnbextension~=3.5.0->ipywidgets>=7.0.0->pydeck>=0.1.dev5->streamlit) (0.8.3)\n",
      "Requirement already satisfied: mistune<2,>=0.8.1 in c:\\users\\user\\anaconda3\\lib\\site-packages (from nbconvert->notebook>=4.4.1->widgetsnbextension~=3.5.0->ipywidgets>=7.0.0->pydeck>=0.1.dev5->streamlit) (0.8.4)\n",
      "Requirement already satisfied: bleach in c:\\users\\user\\anaconda3\\lib\\site-packages (from nbconvert->notebook>=4.4.1->widgetsnbextension~=3.5.0->ipywidgets>=7.0.0->pydeck>=0.1.dev5->streamlit) (3.1.5)\n",
      "Requirement already satisfied: defusedxml in c:\\users\\user\\anaconda3\\lib\\site-packages (from nbconvert->notebook>=4.4.1->widgetsnbextension~=3.5.0->ipywidgets>=7.0.0->pydeck>=0.1.dev5->streamlit) (0.6.0)\n",
      "Requirement already satisfied: testpath in c:\\users\\user\\anaconda3\\lib\\site-packages (from nbconvert->notebook>=4.4.1->widgetsnbextension~=3.5.0->ipywidgets>=7.0.0->pydeck>=0.1.dev5->streamlit) (0.4.4)\n",
      "Requirement already satisfied: pandocfilters>=1.4.1 in c:\\users\\user\\anaconda3\\lib\\site-packages (from nbconvert->notebook>=4.4.1->widgetsnbextension~=3.5.0->ipywidgets>=7.0.0->pydeck>=0.1.dev5->streamlit) (1.4.2)\n",
      "Requirement already satisfied: webencodings in c:\\users\\user\\anaconda3\\lib\\site-packages (from bleach->nbconvert->notebook>=4.4.1->widgetsnbextension~=3.5.0->ipywidgets>=7.0.0->pydeck>=0.1.dev5->streamlit) (0.5.1)\n",
      "Building wheels for collected packages: botocore, blinker\n",
      "  Building wheel for botocore (setup.py): started\n",
      "  Building wheel for botocore (setup.py): finished with status 'done'\n",
      "  Created wheel for botocore: filename=botocore-1.18.0-py2.py3-none-any.whl size=6591895 sha256=696c8b8708e67c0323335a587afd8701996361720979b030a2ce262dfdfc4d62\n",
      "  Stored in directory: c:\\users\\user\\appdata\\local\\pip\\cache\\wheels\\c4\\e0\\e0\\1fdb8c08181641451cb5ec05940472dbba1797899b2f98a5f0\n",
      "  Building wheel for blinker (setup.py): started\n",
      "  Building wheel for blinker (setup.py): finished with status 'done'\n",
      "  Created wheel for blinker: filename=blinker-1.4-py3-none-any.whl size=13455 sha256=45094da6ad87735f7474d8fd484b8df9d7191e8a7991d604cc6bea7deb7f3988\n",
      "  Stored in directory: c:\\users\\user\\appdata\\local\\pip\\cache\\wheels\\b7\\a5\\68\\fe632054a5eadd531c7a49d740c50eb6adfbeca822b4eab8d4\n",
      "Successfully built botocore blinker\n",
      "Installing collected packages: cachetools, base58, jmespath, botocore, altair, pyarrow, validators, astor, tzlocal, blinker, protobuf, s3transfer, boto3, pydeck, enum-compat, streamlit\n",
      "Successfully installed altair-4.1.0 astor-0.8.1 base58-2.0.1 blinker-1.4 boto3-1.15.0 botocore-1.18.0 cachetools-4.1.1 enum-compat-0.0.3 jmespath-0.10.0 protobuf-3.13.0 pyarrow-1.0.1 pydeck-0.5.0b1 s3transfer-0.3.3 streamlit-0.67.0 tzlocal-2.1 validators-0.18.1\n"
     ]
    }
   ],
   "source": [
    "pip install streamlit"
   ]
  },
  {
   "cell_type": "code",
   "execution_count": 89,
   "metadata": {},
   "outputs": [],
   "source": [
    "import streamlit as st"
   ]
  },
  {
   "cell_type": "code",
   "execution_count": 90,
   "metadata": {},
   "outputs": [],
   "source": [
    "st.write(\"\"\"\n",
    "# My first app\n",
    "Hello *world!*\n",
    "\"\"\")"
   ]
  },
  {
   "cell_type": "code",
   "execution_count": null,
   "metadata": {},
   "outputs": [],
   "source": [
    "st run https://www.heroku.com/"
   ]
  }
 ],
 "metadata": {
  "kernelspec": {
   "display_name": "Python 3",
   "language": "python",
   "name": "python3"
  },
  "language_info": {
   "codemirror_mode": {
    "name": "ipython",
    "version": 3
   },
   "file_extension": ".py",
   "mimetype": "text/x-python",
   "name": "python",
   "nbconvert_exporter": "python",
   "pygments_lexer": "ipython3",
   "version": "3.8.3"
  }
 },
 "nbformat": 4,
 "nbformat_minor": 2
}
